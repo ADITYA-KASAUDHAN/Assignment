{
 "cells": [
  {
   "cell_type": "markdown",
   "id": "ae8148cc",
   "metadata": {},
   "source": [
    "# Answer 1)."
   ]
  },
  {
   "cell_type": "code",
   "execution_count": 6,
   "id": "b53eb0b0",
   "metadata": {},
   "outputs": [
    {
     "name": "stdout",
     "output_type": "stream",
     "text": [
      "Enter Your percentage :95\n",
      "Grade A \n"
     ]
    }
   ],
   "source": [
    "Marks = int(input(\"Enter Your percentage :\"))\n",
    "\n",
    "if Marks > 90:\n",
    "    print(\"Grade A \")\n",
    "elif Marks > 80 and Marks <=90:\n",
    "    print(\"Grade B \")\n",
    "elif Marks >=60 and Marks <=80:\n",
    "    print(\"Grade C \")\n",
    "else:\n",
    "    print(\"Grade D\")"
   ]
  },
  {
   "cell_type": "markdown",
   "id": "dc1d13d1",
   "metadata": {},
   "source": [
    "# Answer 2)."
   ]
  },
  {
   "cell_type": "code",
   "execution_count": 11,
   "id": "d10fd4a5",
   "metadata": {},
   "outputs": [
    {
     "name": "stdout",
     "output_type": "stream",
     "text": [
      "Enter Cost Price of Bike : 45000\n",
      "Road Tax to be paid = 5% \n"
     ]
    }
   ],
   "source": [
    "Price = int(input(\"Enter Cost Price of Bike : \"))\n",
    "\n",
    "if Price > 100000:\n",
    "    print(\"Road Tax to be paid = 15% \")\n",
    "elif Price > 50000 and Price <= 100000:\n",
    "    print(\"Road Tax to be paid = 10% \")\n",
    "else :\n",
    "    print(\"Road Tax to be paid = 5% \")"
   ]
  },
  {
   "cell_type": "markdown",
   "id": "ed1b3eb4",
   "metadata": {},
   "source": [
    "# Answer 3)."
   ]
  },
  {
   "cell_type": "code",
   "execution_count": 15,
   "id": "ff619c7e",
   "metadata": {},
   "outputs": [
    {
     "name": "stdout",
     "output_type": "stream",
     "text": [
      "Enter city name : Jaipur\n",
      "Monument of City : Jal Mahal\n"
     ]
    }
   ],
   "source": [
    "City = input(\"Enter city name : \")\n",
    "\n",
    "if City == \"Delhi\" :\n",
    "    print(\"Monument of City : Red Fort\")\n",
    "elif City == \"Agra\":\n",
    "    print(\"Monument of City : Taj Mahal\")\n",
    "elif City == \"Jaipur\" :\n",
    "    print(\"Monument of City : Jal Mahal\")\n",
    "else :\n",
    "    print(\"there is no any Monunment \")\n",
    "    "
   ]
  },
  {
   "cell_type": "markdown",
   "id": "a6f14a98",
   "metadata": {},
   "source": [
    "# Answer 4)."
   ]
  },
  {
   "cell_type": "code",
   "execution_count": 6,
   "id": "e986bc70",
   "metadata": {},
   "outputs": [
    {
     "name": "stdout",
     "output_type": "stream",
     "text": [
      "Enter a number: 120\n",
      "The number can be divided by 3 3 times before it is less than or equal to 10.\n"
     ]
    }
   ],
   "source": [
    "number = int(input(\"Enter a number: \"))\n",
    "count = 0\n",
    "\n",
    "while number > 10:\n",
    "    number = number / 3\n",
    "    count += 1\n",
    "\n",
    "print(\"The number can be divided by 3 :\", count, \"times before it is less than or equal to 10.\")"
   ]
  },
  {
   "cell_type": "markdown",
   "id": "3a164063",
   "metadata": {},
   "source": [
    "# Ansewer 5)."
   ]
  },
  {
   "cell_type": "markdown",
   "id": "6fd2cb39",
   "metadata": {},
   "source": [
    "while loop in pyhton is used when we want to  repeatedly execute a block of code as long as a certain condition is met.\n",
    "\n",
    "Example"
   ]
  },
  {
   "cell_type": "code",
   "execution_count": 9,
   "id": "05b37d62",
   "metadata": {},
   "outputs": [
    {
     "name": "stdout",
     "output_type": "stream",
     "text": [
      "The current value of counter is: 0\n",
      "The current value of counter is: 1\n",
      "The current value of counter is: 2\n",
      "The current value of counter is: 3\n",
      "The current value of counter is: 4\n",
      "The while loop has ended.\n"
     ]
    }
   ],
   "source": [
    "counter = 0\n",
    "\n",
    "while counter < 5:\n",
    "    print(\"The current value of counter is:\", counter)\n",
    "    counter += 1\n",
    "\n",
    "print(\"The while loop has ended.\")\n"
   ]
  },
  {
   "cell_type": "markdown",
   "id": "f4a78560",
   "metadata": {},
   "source": [
    "In this example, the while loop runs as long as the value of the counter variable is less than 5.\n",
    "Every time the loop runs, the value of counter is incremented by 1. \n",
    "The loop continues to run until the value of counter is equal to 5, at which point the loop ends and the message \"The while loop has ended.\" is printed."
   ]
  },
  {
   "cell_type": "markdown",
   "id": "a9fbd05c",
   "metadata": {},
   "source": [
    "# Answer 6). "
   ]
  },
  {
   "cell_type": "code",
   "execution_count": 15,
   "id": "a2839170",
   "metadata": {},
   "outputs": [
    {
     "name": "stdout",
     "output_type": "stream",
     "text": [
      "*\n",
      "**\n",
      "***\n",
      "****\n",
      "*****\n"
     ]
    }
   ],
   "source": [
    "# Pattern 1\n",
    "i = 1\n",
    "while i <= 5:\n",
    "    j = 1\n",
    "    while j <= i:\n",
    "        print(\"*\", end=\"\")\n",
    "        j += 1\n",
    "    print(\"\")\n",
    "    i += 1\n",
    "\n"
   ]
  },
  {
   "cell_type": "code",
   "execution_count": 13,
   "id": "30ad0ca8",
   "metadata": {},
   "outputs": [
    {
     "name": "stdout",
     "output_type": "stream",
     "text": [
      "*****\n",
      "****\n",
      "***\n",
      "**\n",
      "*\n"
     ]
    }
   ],
   "source": [
    "# Pattern 2\n",
    "i = 5\n",
    "while i >= 1:\n",
    "    j = 1\n",
    "    while j <= i:\n",
    "        print(\"*\", end=\"\")\n",
    "        j += 1\n",
    "    print(\"\")\n",
    "    i -= \n"
   ]
  },
  {
   "cell_type": "code",
   "execution_count": 14,
   "id": "4d310087",
   "metadata": {},
   "outputs": [
    {
     "name": "stdout",
     "output_type": "stream",
     "text": [
      "    *\n",
      "   **\n",
      "  ***\n",
      " ****\n",
      "*****\n"
     ]
    }
   ],
   "source": [
    "# Pattern 3\n",
    "i = 1\n",
    "while i <= 5:\n",
    "    j = 1\n",
    "    while j <= 5:\n",
    "        if j < 6 - i:\n",
    "            print(\" \", end=\"\")\n",
    "        else:\n",
    "            print(\"*\", end=\"\")\n",
    "        j += 1\n",
    "    print(\"\")\n",
    "    i += 1"
   ]
  },
  {
   "cell_type": "markdown",
   "id": "52c3c5bc",
   "metadata": {},
   "source": [
    "# Answer 7)."
   ]
  },
  {
   "cell_type": "code",
   "execution_count": 23,
   "id": "604f67c6",
   "metadata": {},
   "outputs": [
    {
     "name": "stdout",
     "output_type": "stream",
     "text": [
      "Number: 10\n",
      "Number: 9\n",
      "Number: 8\n",
      "Number: 7\n",
      "Number: 6\n",
      "Number: 5\n",
      "Number: 4\n",
      "Number: 3\n",
      "Number: 2\n",
      "Number: 1\n"
     ]
    }
   ],
   "source": [
    "number = 10\n",
    "\n",
    "while number >= 1: \n",
    "    print(\"Number:\",number )\n",
    "    number-=1\n",
    " "
   ]
  },
  {
   "cell_type": "markdown",
   "id": "8ffe10bc",
   "metadata": {},
   "source": [
    "# Answer 8)."
   ]
  },
  {
   "cell_type": "code",
   "execution_count": 24,
   "id": "23bb320b",
   "metadata": {},
   "outputs": [
    {
     "name": "stdout",
     "output_type": "stream",
     "text": [
      "Number: 10\n",
      "Number: 9\n",
      "Number: 8\n",
      "Number: 7\n",
      "Number: 6\n",
      "Number: 5\n",
      "Number: 4\n",
      "Number: 3\n",
      "Number: 2\n",
      "Number: 1\n"
     ]
    }
   ],
   "source": [
    "number = 10\n",
    "\n",
    "while number >= 1: \n",
    "    print(\"Number:\",number )\n",
    "    number-=1\n",
    " "
   ]
  },
  {
   "cell_type": "code",
   "execution_count": 28,
   "id": "55efb6fe",
   "metadata": {},
   "outputs": [
    {
     "data": {
      "text/plain": [
       "'p w s k i l l s'"
      ]
     },
     "execution_count": 28,
     "metadata": {},
     "output_type": "execute_result"
    }
   ],
   "source": [
    "\n",
    "string = \"p w s k i l l s\"\n",
    "\n",
    "\" \".join(string.replace(\" \", \"\"))\n"
   ]
  },
  {
   "cell_type": "code",
   "execution_count": 29,
   "id": "b9c8b285",
   "metadata": {},
   "outputs": [
    {
     "data": {
      "text/plain": [
       "True"
      ]
     },
     "execution_count": 29,
     "metadata": {},
     "output_type": "execute_result"
    }
   ],
   "source": [
    "\"pwskills\"[::-1].upper().replace(\"SLLIKSWP\", \"pwskills\").islower()"
   ]
  },
  {
   "cell_type": "code",
   "execution_count": 32,
   "id": "1e677516",
   "metadata": {},
   "outputs": [
    {
     "name": "stdout",
     "output_type": "stream",
     "text": [
      "I\n",
      "Want\n",
      "To\n",
      "Become\n",
      "A\n",
      "Data\n",
      "Scientist\n"
     ]
    }
   ],
   "source": [
    "s = \"I want to become a data scientist\"\n",
    "\n",
    "for i in s.split():\n",
    "\n",
    "    i.capitalize()\n",
    "\n",
    "    print(i.title())"
   ]
  },
  {
   "cell_type": "code",
   "execution_count": null,
   "id": "63a37e4a",
   "metadata": {},
   "outputs": [],
   "source": []
  }
 ],
 "metadata": {
  "kernelspec": {
   "display_name": "Python 3 (ipykernel)",
   "language": "python",
   "name": "python3"
  },
  "language_info": {
   "codemirror_mode": {
    "name": "ipython",
    "version": 3
   },
   "file_extension": ".py",
   "mimetype": "text/x-python",
   "name": "python",
   "nbconvert_exporter": "python",
   "pygments_lexer": "ipython3",
   "version": "3.9.12"
  }
 },
 "nbformat": 4,
 "nbformat_minor": 5
}
