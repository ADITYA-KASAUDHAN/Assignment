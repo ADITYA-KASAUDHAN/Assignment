{
 "cells": [
  {
   "cell_type": "markdown",
   "id": "87e6e3d4",
   "metadata": {},
   "source": [
    "Question 1). Who developed Python Programming Language ?"
   ]
  },
  {
   "cell_type": "markdown",
   "id": "3cb9aacb",
   "metadata": {},
   "source": [
    "Answer 1).  Python Progrmming are developed by Guido van Rossum in 1989."
   ]
  },
  {
   "cell_type": "markdown",
   "id": "6a3ffd8a",
   "metadata": {},
   "source": [
    "Question 2). Which type of Programming does Python support ?"
   ]
  },
  {
   "cell_type": "markdown",
   "id": "5b87bb98",
   "metadata": {},
   "source": [
    "Answer 2).Python support for common programming and object-oriented programming Language."
   ]
  },
  {
   "cell_type": "markdown",
   "id": "13ea661a",
   "metadata": {},
   "source": [
    "Question 3).Is Python case sensitive when dealing with indentifiers ?"
   ]
  },
  {
   "cell_type": "markdown",
   "id": "393b2a78",
   "metadata": {},
   "source": [
    "Answer 3). Yes, Python is case sensitive when dealing with identifiers."
   ]
  },
  {
   "cell_type": "markdown",
   "id": "cb5ff417",
   "metadata": {},
   "source": [
    "Question 4). Whar is correct extension of the python file ? "
   ]
  },
  {
   "cell_type": "markdown",
   "id": "e7e3d2ee",
   "metadata": {},
   "source": [
    "Answer 4). The correct extension of python file is .py"
   ]
  },
  {
   "cell_type": "markdown",
   "id": "34561820",
   "metadata": {},
   "source": [
    "Question 5). Is Python Code compiled or interpreted ?\n"
   ]
  },
  {
   "cell_type": "markdown",
   "id": "1e9420fb",
   "metadata": {},
   "source": [
    "Answer 5). Not Python Code compiled or interpreted."
   ]
  },
  {
   "cell_type": "markdown",
   "id": "2b7abc51",
   "metadata": {},
   "source": [
    "Question 6). Name of few blocks of code used to define in Python language ?"
   ]
  },
  {
   "cell_type": "markdown",
   "id": "16f52aba",
   "metadata": {},
   "source": [
    "Answer 6). indentation"
   ]
  },
  {
   "cell_type": "markdown",
   "id": "4ea72f96",
   "metadata": {},
   "source": [
    "Question 7). State a character used to give single-line comments in python ?"
   ]
  },
  {
   "cell_type": "markdown",
   "id": "f0184f97",
   "metadata": {},
   "source": [
    "Answer 7). # are use to define of single line comments."
   ]
  },
  {
   "cell_type": "markdown",
   "id": "b270900a",
   "metadata": {},
   "source": [
    "Question 8). Mention functions which can helps us to find the version of python that we are current working on ?"
   ]
  },
  {
   "cell_type": "markdown",
   "id": "aecc5246",
   "metadata": {},
   "source": [
    "Answer 8). pyhton --vesrion"
   ]
  },
  {
   "cell_type": "markdown",
   "id": "4e68ac3e",
   "metadata": {},
   "source": [
    "Question 9). Python supports the creation of anonymous function at runtime, using a construct called-----"
   ]
  },
  {
   "cell_type": "markdown",
   "id": "8da1d125",
   "metadata": {},
   "source": [
    "Answer 9). Lambda"
   ]
  },
  {
   "cell_type": "markdown",
   "id": "9ddbd0ea",
   "metadata": {},
   "source": [
    "QUestion 10). What does pip stand for python ?"
   ]
  },
  {
   "cell_type": "markdown",
   "id": "69357f1f",
   "metadata": {},
   "source": [
    "Answer 10). PIP stands for Precise Infectious Packages. which are used to install packages."
   ]
  },
  {
   "cell_type": "markdown",
   "id": "dbfba822",
   "metadata": {},
   "source": [
    "Question 11).Mention a few built-in function in python ?"
   ]
  },
  {
   "cell_type": "markdown",
   "id": "20313621",
   "metadata": {},
   "source": [
    "Answer 11). built-in function-\n",
    "            print()\n",
    "            type()\n",
    "            id()\n",
    "            input()\n",
    "            "
   ]
  },
  {
   "cell_type": "markdown",
   "id": "1854e1a5",
   "metadata": {},
   "source": [
    "Question 12).What is the maximum possible length of an identifiers in python ?"
   ]
  },
  {
   "cell_type": "markdown",
   "id": "d6abe92c",
   "metadata": {},
   "source": [
    "Answer 12). The maximum possible value of an identifiers are 79 characters."
   ]
  },
  {
   "cell_type": "markdown",
   "id": "e4bd68c3",
   "metadata": {},
   "source": [
    "Question 13). What are the benifits of using python ?"
   ]
  },
  {
   "cell_type": "markdown",
   "id": "32cfcae9",
   "metadata": {},
   "source": [
    "Answer 13). Benifits of using python-\n",
    "            Easy Integrations\n",
    "            open source\n",
    "            Work with less code\n",
    "            productivity\n",
    "            objcet-oriented programming\n",
    "            Easy Syntax"
   ]
  },
  {
   "cell_type": "markdown",
   "id": "16543b7f",
   "metadata": {},
   "source": [
    "Question 14). How is memory managed in python ?"
   ]
  },
  {
   "cell_type": "markdown",
   "id": "96d49526",
   "metadata": {},
   "source": [
    "Answer 14). Memory management in Python involves a private heap containing all Python objects and data structures. The management of this private heap is ensured internally by the Python memory manager. The Python memory manager has different components which deal with various dynamic storage management aspects, like sharing, segmentation, preallocation or caching."
   ]
  },
  {
   "cell_type": "markdown",
   "id": "48ec2f0e",
   "metadata": {},
   "source": [
    "Question 15). How to install on Windows and set path varaibles ?\n"
   ]
  },
  {
   "cell_type": "markdown",
   "id": "769f8339",
   "metadata": {},
   "source": [
    "Answer 15). \n",
    "\n",
    "How to install Python-\n",
    "1) Open the official Python website in your web browser. \n",
    "2) Navigate to the Downloads tab for Windows.\n",
    "3) Choose the latest Python 3 release. \n",
    "4). then download python of the latest version\n",
    "\n",
    "Set Path Variables in python-\n",
    " \n",
    "1) Right-clicking This PC and going to Properties.\n",
    "2) Clicking on the Advanced system settings in the menu on the left.\n",
    "3) Clicking on the Environment Variables button on the bottom right.\n",
    "4)In the System variables section, selecting the Path variable and clicking on Edit. The next screen will show all the directories that are currently a part of the PATH variable.\n",
    "5)Clicking on New and entering Python’s install directory."
   ]
  },
  {
   "cell_type": "markdown",
   "id": "1d29ad56",
   "metadata": {},
   "source": [
    "Question 16). Is indention required in python ?"
   ]
  },
  {
   "cell_type": "markdown",
   "id": "7e676eaf",
   "metadata": {},
   "source": [
    "Answer 16).Yes, identation is required in python."
   ]
  },
  {
   "cell_type": "code",
   "execution_count": null,
   "id": "372d80ee",
   "metadata": {},
   "outputs": [],
   "source": []
  }
 ],
 "metadata": {
  "kernelspec": {
   "display_name": "Python 3 (ipykernel)",
   "language": "python",
   "name": "python3"
  },
  "language_info": {
   "codemirror_mode": {
    "name": "ipython",
    "version": 3
   },
   "file_extension": ".py",
   "mimetype": "text/x-python",
   "name": "python",
   "nbconvert_exporter": "python",
   "pygments_lexer": "ipython3",
   "version": "3.9.13"
  }
 },
 "nbformat": 4,
 "nbformat_minor": 5
}
