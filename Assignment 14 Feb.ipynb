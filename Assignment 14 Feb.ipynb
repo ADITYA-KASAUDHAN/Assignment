{
 "cells": [
  {
   "cell_type": "markdown",
   "id": "8bee0f5c",
   "metadata": {},
   "source": [
    "# Question 1."
   ]
  },
  {
   "cell_type": "code",
   "execution_count": 2,
   "id": "f7013181",
   "metadata": {},
   "outputs": [],
   "source": [
    "# Q1. What is multithreading in python? hy is it used? Name the module used to handle threads in python"
   ]
  },
  {
   "cell_type": "markdown",
   "id": "3a79a2a0",
   "metadata": {},
   "source": [
    "Multithreading in Python refers to the ability to execute multiple threads of control (smaller units of a program) within a single process. This allows concurrent execution of multiple tasks, and can improve the performance of certain types of applications, especially those that are I/O bound and have a high degree of concurrency.\n",
    "\n",
    "Multithreading is used to achieve concurrency in Python programs. By running multiple threads in parallel, we can increase the efficiency of a program that performs I/O operations, such as downloading files from the internet, or reading and writing data to and from a database. Multithreading can also be used to execute multiple tasks simultaneously in a program, which can lead to faster execution times.\n",
    "\n",
    "In Python, the built-in threading module is used to handle threads. This module provides a simple way to create and manage threads within a program. The threading module provides a Thread class that can be used to create new threads, and a variety of synchronization primitives, such as locks and semaphores, that can be used to coordinate access to shared resources between multiple threads.\n",
    "\n",
    "Here is an example of how to use the threading module to create and start a new thread in Python:"
   ]
  },
  {
   "cell_type": "code",
   "execution_count": 3,
   "id": "3fe6a071",
   "metadata": {},
   "outputs": [
    {
     "name": "stdout",
     "output_type": "stream",
     "text": [
      "Thread is running\n",
      "Main thread continues to run\n"
     ]
    }
   ],
   "source": [
    "import threading\n",
    "\n",
    "def my_function():\n",
    "    # Do some work here\n",
    "    print(\"Thread is running\")\n",
    "\n",
    "# Create a new thread and start it\n",
    "t = threading.Thread(target=my_function)\n",
    "t.start()\n",
    "\n",
    "# Main thread continues to run while new thread is executing\n",
    "print(\"Main thread continues to run\")\n"
   ]
  },
  {
   "cell_type": "markdown",
   "id": "d3740d42",
   "metadata": {},
   "source": [
    "# Question 2. "
   ]
  },
  {
   "cell_type": "code",
   "execution_count": 5,
   "id": "eb0f2c8e",
   "metadata": {},
   "outputs": [],
   "source": [
    "# Q2. Why threading module used? write the use of the following functions\n",
    "\n",
    "# 1. activeCount()\n",
    "# 2. currentThread()\n",
    "# 3. enumerate()"
   ]
  },
  {
   "cell_type": "markdown",
   "id": "a05fdaf9",
   "metadata": {},
   "source": [
    "The threading module is used in Python to create and manage threads. It provides a high-level interface for working with threads, including functions for creating and starting threads, synchronizing threads, and communicating between threads.\n",
    "\n",
    "Here are some details about the specific functions you mentioned:\n",
    "\n",
    "activeCount(): This function returns the number of thread objects that are currently alive. This includes both daemon and non-daemon threads.\n",
    "\n",
    "currentThread(): This function returns a reference to the current thread object. This can be useful for identifying the thread that is currently executing.\n",
    "\n",
    "enumerate(): This function returns a list of all thread objects that are currently alive. This includes both daemon and non-daemon threads. By default, the list includes the main thread, which is the thread that Python starts when it runs your program.\n",
    "\n",
    "Here is an example that demonstrates how these functions can be used:"
   ]
  },
  {
   "cell_type": "code",
   "execution_count": 4,
   "id": "95c9f712",
   "metadata": {},
   "outputs": [
    {
     "name": "stdout",
     "output_type": "stream",
     "text": [
      "Thread Thread-7 started\n",
      "Thread Thread-7 finished\n",
      "Thread Thread-8 started\n",
      "Thread Thread-8 finished\n",
      "Thread Thread-9 started\n",
      "Thread Thread-9 finished\n",
      "Thread Thread-10 started\n",
      "Thread Thread-10 finished\n",
      "Thread Thread-11 started\n",
      "Thread Thread-11 finished\n",
      "Number of active threads: 6\n",
      "Thread MainThread is alive\n",
      "Thread IOPub is alive\n",
      "Thread Heartbeat is alive\n",
      "Thread Control is alive\n",
      "Thread IPythonHistorySavingThread is alive\n",
      "Thread Thread-4 is alive\n"
     ]
    }
   ],
   "source": [
    "import threading\n",
    "\n",
    "def worker():\n",
    "    print(f\"Thread {threading.currentThread().getName()} started\")\n",
    "    # do some work here\n",
    "    print(f\"Thread {threading.currentThread().getName()} finished\")\n",
    "\n",
    "threads = []\n",
    "\n",
    "for i in range(5):\n",
    "    t = threading.Thread(target=worker)\n",
    "    threads.append(t)\n",
    "    t.start()\n",
    "\n",
    "print(f\"Number of active threads: {threading.activeCount()}\")\n",
    "\n",
    "for t in threading.enumerate():\n",
    "    print(f\"Thread {t.getName()} is alive\")\n",
    "\n"
   ]
  },
  {
   "cell_type": "markdown",
   "id": "425fa1db",
   "metadata": {},
   "source": [
    "# Question 3."
   ]
  },
  {
   "cell_type": "code",
   "execution_count": 6,
   "id": "530ced21",
   "metadata": {},
   "outputs": [],
   "source": [
    "# Q3. Explain the following functions\n",
    "#\n",
    "# 1. run()\n",
    "# 2. start()\n",
    "# 3. join()\n",
    "# 4. isAlive()\n"
   ]
  },
  {
   "cell_type": "markdown",
   "id": "3e3281c3",
   "metadata": {},
   "source": [
    "The following are common functions used in the threading module in Python:\n",
    "\n",
    "1. run(): This is the method that is called when a thread is started. It contains the code that is executed by the thread. You can define your own run() method by creating a new class that inherits from Thread and overriding the run() method.\n",
    "\n",
    "2. start(): This method starts the thread by calling the run() method. When you call start(), a new thread is created and the run() method is executed in that thread. It is important to note that you should not call the run() method directly, but always call start().\n",
    "\n",
    "3. join(): This method waits for the thread to finish. If you call join() on a thread, your program will block until that thread finishes. You can also pass a timeout argument to join() to specify a maximum amount of time to wait for the thread to finish.\n",
    "\n",
    "4. isAlive(): This method returns True if the thread is currently running and False otherwise. You can use this method to check if a thread is still running before calling join().\n",
    "\n",
    "Here is an example that demonstrates how these functions can be used:"
   ]
  },
  {
   "cell_type": "code",
   "execution_count": 10,
   "id": "145527bd",
   "metadata": {},
   "outputs": [
    {
     "name": "stdout",
     "output_type": "stream",
     "text": [
      "Thread Thread-18 started\n",
      "Thread Thread-19 started\n",
      "Thread Thread-18 is alive: True\n",
      "Thread Thread-19 is alive: True\n",
      "Thread Thread-19 finished\n",
      "Thread Thread-18 finished\n",
      "Thread Thread-18 is alive: False\n",
      "Thread Thread-19 is alive: False\n"
     ]
    }
   ],
   "source": [
    "import threading\n",
    "import time\n",
    "\n",
    "class MyThread(threading.Thread):\n",
    "    def run(self):\n",
    "        print(f\"Thread {self.getName()} started\")\n",
    "        time.sleep(5)\n",
    "        print(f\"Thread {self.getName()} finished\")\n",
    "\n",
    "t1 = MyThread()\n",
    "t2 = MyThread()\n",
    "\n",
    "t1.start()\n",
    "t2.start()\n",
    "\n",
    "print(f\"Thread {t1.getName()} is alive: {t1.is_alive()}\")\n",
    "print(f\"Thread {t2.getName()} is alive: {t2.is_alive()}\")\n",
    "\n",
    "t1.join()\n",
    "t2.join()\n",
    "\n",
    "print(f\"Thread {t1.getName()} is alive: {t1.is_alive()}\")\n",
    "print(f\"Thread {t2.getName()} is alive: {t2.is_alive()}\")\n"
   ]
  },
  {
   "cell_type": "markdown",
   "id": "63819983",
   "metadata": {},
   "source": [
    "In this example, we create two MyThread objects and start them using the start() method. We then use the isAlive() method to check if the threads are still running. After waiting for the threads to finish using the join() method, we check again if the threads are still running."
   ]
  },
  {
   "cell_type": "markdown",
   "id": "3ab4a314",
   "metadata": {},
   "source": [
    "# Question 4. "
   ]
  },
  {
   "cell_type": "code",
   "execution_count": 12,
   "id": "f3fb87bc",
   "metadata": {},
   "outputs": [],
   "source": [
    "# Q4. W rite a python program to create two threads. Thread one must print the list of squares and thread two must print the list of cubes"
   ]
  },
  {
   "cell_type": "code",
   "execution_count": 13,
   "id": "06857fb4",
   "metadata": {},
   "outputs": [
    {
     "name": "stdout",
     "output_type": "stream",
     "text": [
      "1 squared is 1\n",
      "2 squared is 4\n",
      "3 squared is 9\n",
      "4 squared is 16\n",
      "5 squared is 25\n",
      "6 squared is 36\n",
      "7 squared is 49\n",
      "8 squared is 64\n",
      "9 squared is 81\n",
      "10 squared is 100\n",
      "1 cubed is 1\n",
      "2 cubed is 8\n",
      "3 cubed is 27\n",
      "4 cubed is 64\n",
      "5 cubed is 125\n",
      "6 cubed is 216\n",
      "7 cubed is 343\n",
      "8 cubed is 512\n",
      "9 cubed is 729\n",
      "10 cubed is 1000\n"
     ]
    }
   ],
   "source": [
    "import threading\n",
    "\n",
    "def print_squares():\n",
    "    for i in range(1, 11):\n",
    "        print(f\"{i} squared is {i**2}\")\n",
    "\n",
    "def print_cubes():\n",
    "    for i in range(1, 11):\n",
    "        print(f\"{i} cubed is {i**3}\")\n",
    "\n",
    "t1 = threading.Thread(target=print_squares)\n",
    "t2 = threading.Thread(target=print_cubes)\n",
    "\n",
    "t1.start()\n",
    "t2.start()\n",
    "\n",
    "t1.join()\n",
    "t2.join()\n"
   ]
  },
  {
   "cell_type": "markdown",
   "id": "58388644",
   "metadata": {},
   "source": [
    "# Question 5."
   ]
  },
  {
   "cell_type": "code",
   "execution_count": 14,
   "id": "dcc06a4d",
   "metadata": {},
   "outputs": [],
   "source": [
    "# Q4. State advantages and disadvantages of multithreading"
   ]
  },
  {
   "cell_type": "markdown",
   "id": "57b84c08",
   "metadata": {},
   "source": [
    "Multithreading has several advantages and disadvantages:\n",
    "\n",
    "Advantages:\n",
    "\n",
    "* Faster Execution: Multithreading can increase the speed of execution by allowing multiple threads to execute concurrently on multiple processors or cores. This can result in a significant reduction in the time required to complete a task.\n",
    "\n",
    "* Improved Responsiveness: Multithreading can improve the responsiveness of an application by allowing it to continue executing other tasks while waiting for slow I/O or other blocking operations to complete.\n",
    "\n",
    "* Resource Sharing: Multithreading allows multiple threads to share resources such as memory, CPU time, and I/O devices, which can result in more efficient use of resources.\n",
    "\n",
    "* Scalability: Multithreading can help increase the scalability of an application by allowing it to handle more concurrent users or requests without significantly increasing the hardware requirements.\n",
    "    \n",
    "    \n",
    "    \n",
    "    Disadvantages:\n",
    "\n",
    "* Complexity: Multithreading can add complexity to an application, making it harder to develop, debug, and maintain.\n",
    "\n",
    "* Synchronization Issues: When multiple threads share resources, they must be synchronized to prevent race conditions and other synchronization issues. This can be difficult to manage and can result in performance overhead.\n",
    "\n",
    "* Increased Memory Usage: Each thread requires its own stack, which can increase memory usage, especially if the application creates many threads.\n",
    "\n",
    "* Deadlocks: If threads acquire multiple locks in different orders, it can lead to deadlocks, which can cause the application to hang or crash.\n",
    "\n",
    "\n",
    "\n",
    "\n"
   ]
  },
  {
   "cell_type": "markdown",
   "id": "821ef4b4",
   "metadata": {},
   "source": [
    "# Question 6."
   ]
  },
  {
   "cell_type": "code",
   "execution_count": 17,
   "id": "f163d2e5",
   "metadata": {},
   "outputs": [],
   "source": [
    "# Q6. Explain deadlocks and race conditions."
   ]
  },
  {
   "cell_type": "markdown",
   "id": "026c86df",
   "metadata": {},
   "source": [
    "Deadlocks and race conditions are two common problems that can occur in multithreaded programs.\n",
    "\n",
    "*  Deadlocks:\n",
    "A deadlock occurs when two or more threads are blocked, waiting for each other to release a resource. This can happen when two threads each hold a resource that the other needs, so neither can make progress. Deadlocks can cause a program to hang or crash, and they can be difficult to debug.\n",
    "\n",
    "For example, imagine that two threads need to acquire two locks to complete their tasks. If thread A acquires lock 1 and thread B acquires lock 2, but thread A also needs lock 2 and thread B also needs lock 1, then both threads will be blocked and the program will deadlock.\n",
    "\n",
    "*  Race conditions:\n",
    "A race condition occurs when two or more threads access a shared resource concurrently, and the outcome of the program depends on the order in which the threads execute. Race conditions can cause unpredictable behavior, such as incorrect results, crashes, or data corruption.\n",
    "\n",
    "For example, imagine that two threads are updating a variable, x, and thread A reads the value of x before thread B updates it, but after thread B reads the value of x. In this case, the final value of x will depend on the order in which the threads execute, which can cause incorrect results.\n",
    "\n",
    "To prevent deadlocks and race conditions, multithreaded programs must carefully manage the synchronization of shared resources. This can be done using synchronization primitives such as locks, semaphores, and condition variables, as well as design patterns such as thread-safe singletons and immutable objects. It is important to understand the causes and symptoms of deadlocks and race conditions to develop robust and reliable multithreaded programs.\n",
    "\n",
    "\n",
    "\n"
   ]
  },
  {
   "cell_type": "code",
   "execution_count": null,
   "id": "5865cd8e",
   "metadata": {},
   "outputs": [],
   "source": []
  }
 ],
 "metadata": {
  "kernelspec": {
   "display_name": "Python 3 (ipykernel)",
   "language": "python",
   "name": "python3"
  },
  "language_info": {
   "codemirror_mode": {
    "name": "ipython",
    "version": 3
   },
   "file_extension": ".py",
   "mimetype": "text/x-python",
   "name": "python",
   "nbconvert_exporter": "python",
   "pygments_lexer": "ipython3",
   "version": "3.9.13"
  }
 },
 "nbformat": 4,
 "nbformat_minor": 5
}
