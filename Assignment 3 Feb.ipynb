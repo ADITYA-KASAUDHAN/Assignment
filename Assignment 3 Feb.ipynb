{
 "cells": [
  {
   "cell_type": "markdown",
   "id": "b07a76a5",
   "metadata": {},
   "source": [
    "# Answer 1)."
   ]
  },
  {
   "cell_type": "code",
   "execution_count": 2,
   "id": "7aa8695b",
   "metadata": {},
   "outputs": [],
   "source": [
    "# def keyword is used to create function."
   ]
  },
  {
   "cell_type": "code",
   "execution_count": 15,
   "id": "d12e1c6f",
   "metadata": {},
   "outputs": [],
   "source": [
    "def odd_number():\n",
    "    l3 =[]\n",
    "    for i in range(1,26):\n",
    "        if i%2!=0:\n",
    "            l3.append(i)\n",
    "    return l3"
   ]
  },
  {
   "cell_type": "code",
   "execution_count": 16,
   "id": "d180f703",
   "metadata": {},
   "outputs": [
    {
     "data": {
      "text/plain": [
       "[1, 3, 5, 7, 9, 11, 13, 15, 17, 19, 21, 23, 25]"
      ]
     },
     "execution_count": 16,
     "metadata": {},
     "output_type": "execute_result"
    }
   ],
   "source": [
    "odd_number()"
   ]
  },
  {
   "cell_type": "markdown",
   "id": "c5c1a705",
   "metadata": {},
   "source": [
    "# Answer 2)."
   ]
  },
  {
   "cell_type": "code",
   "execution_count": 11,
   "id": "c2ede5a2",
   "metadata": {},
   "outputs": [],
   "source": [
    "# *args and **kwargs are used to pass a variable number of arguments to a function."
   ]
  },
  {
   "cell_type": "code",
   "execution_count": 26,
   "id": "308e87c0",
   "metadata": {},
   "outputs": [
    {
     "data": {
      "text/plain": [
       "(1, 2, 3, 4, 5)"
      ]
     },
     "execution_count": 26,
     "metadata": {},
     "output_type": "execute_result"
    }
   ],
   "source": [
    "# Example of *args\n",
    "\n",
    "def test(*args):\n",
    "    return args\n",
    "    \n",
    "test(1,2,3,4,5)"
   ]
  },
  {
   "cell_type": "code",
   "execution_count": null,
   "id": "f04d709c",
   "metadata": {},
   "outputs": [],
   "source": [
    "# *args is used to pass a variable number of non-keyword arguments to a function. \n",
    "# The arguments passed to the function using *args will be packed into a tuple."
   ]
  },
  {
   "cell_type": "code",
   "execution_count": 23,
   "id": "48d7b4b0",
   "metadata": {},
   "outputs": [],
   "source": [
    "# Example of **kwargs\n",
    "\n",
    "def test1(**kwargs):\n",
    "    return kwargs\n"
   ]
  },
  {
   "cell_type": "code",
   "execution_count": 24,
   "id": "92283c49",
   "metadata": {},
   "outputs": [
    {
     "data": {
      "text/plain": [
       "{'a': [1, 2, 3, 4], 'b': 'ad', 'c': 23.45}"
      ]
     },
     "execution_count": 24,
     "metadata": {},
     "output_type": "execute_result"
    }
   ],
   "source": [
    "test1(a=[1,2,3,4],b=\"ad\", c= 23.45)"
   ]
  },
  {
   "cell_type": "code",
   "execution_count": null,
   "id": "274f7875",
   "metadata": {},
   "outputs": [],
   "source": [
    "# **kwargs is used to pass a keyworded, variable length argument list. \n",
    "# The arguments passed to the function using **kwargs will be packed into a dictionary."
   ]
  },
  {
   "cell_type": "markdown",
   "id": "9701714c",
   "metadata": {},
   "source": [
    "# Answer 3)."
   ]
  },
  {
   "cell_type": "code",
   "execution_count": 27,
   "id": "2310d983",
   "metadata": {},
   "outputs": [],
   "source": [
    "# Iterator in Python is an object that is used to iterate over iterable objects like lists, tuples, dicts, and sets. \n",
    "# The iterator object is initialized using the iter() method. \n",
    "# It uses the next() method for iteration"
   ]
  },
  {
   "cell_type": "code",
   "execution_count": 28,
   "id": "6d74d30b",
   "metadata": {},
   "outputs": [
    {
     "name": "stdout",
     "output_type": "stream",
     "text": [
      "2\n",
      "4\n",
      "6\n",
      "8\n",
      "10\n"
     ]
    }
   ],
   "source": [
    "list = [2, 4, 6, 8, 10, 12, 14, 16, 18, 20]\n",
    "iterator = iter(list)\n",
    "\n",
    "for i in range(5):\n",
    "    print(next(iterator))\n",
    "        \n",
    "        "
   ]
  },
  {
   "cell_type": "markdown",
   "id": "4310d895",
   "metadata": {},
   "source": [
    "# Answer 4)."
   ]
  },
  {
   "cell_type": "code",
   "execution_count": 29,
   "id": "89abc79f",
   "metadata": {},
   "outputs": [],
   "source": [
    "# A generator function is a special type of function in Python that allows you to return a generator iterator, \n",
    "# which is an object that produces a sequence of values. \n",
    "# The key difference between a normal function and a generator function is that a generator function contains at least one yield statement, \n",
    "# whereas a normal function contains a return statement."
   ]
  },
  {
   "cell_type": "code",
   "execution_count": null,
   "id": "28f36fec",
   "metadata": {},
   "outputs": [],
   "source": [
    "# The yield keyword is used in a generator function to produce a value and pause the function's execution.\n",
    "# The next time the function is called, it resumes its execution from where it was paused and continues until it reaches the next yield statement or the end of the function."
   ]
  },
  {
   "cell_type": "code",
   "execution_count": 30,
   "id": "e4d0cf99",
   "metadata": {},
   "outputs": [],
   "source": [
    "# Here's an example of a generator function that generates the sequence of Fibonacci numbers:\n",
    "\n",
    "def test_fib(n):\n",
    "    a,b = 0,1\n",
    "    for i in range(n):\n",
    "        yield a\n",
    "        a,b = b, a+b"
   ]
  },
  {
   "cell_type": "code",
   "execution_count": 31,
   "id": "26888cfe",
   "metadata": {},
   "outputs": [
    {
     "data": {
      "text/plain": [
       "<generator object test_fib at 0x00000253F5FB35F0>"
      ]
     },
     "execution_count": 31,
     "metadata": {},
     "output_type": "execute_result"
    }
   ],
   "source": [
    "test_fib(10)"
   ]
  },
  {
   "cell_type": "code",
   "execution_count": 32,
   "id": "f7c74060",
   "metadata": {},
   "outputs": [
    {
     "name": "stdout",
     "output_type": "stream",
     "text": [
      "0\n",
      "1\n",
      "1\n",
      "2\n",
      "3\n",
      "5\n",
      "8\n",
      "13\n",
      "21\n",
      "34\n"
     ]
    }
   ],
   "source": [
    "for i in test_fib(10):\n",
    "    print(i)"
   ]
  },
  {
   "cell_type": "markdown",
   "id": "282396f0",
   "metadata": {},
   "source": [
    "# Answer 5)."
   ]
  },
  {
   "cell_type": "code",
   "execution_count": 10,
   "id": "db986319",
   "metadata": {},
   "outputs": [
    {
     "name": "stdout",
     "output_type": "stream",
     "text": [
      "2\n",
      "3\n",
      "5\n",
      "7\n",
      "11\n",
      "13\n",
      "17\n",
      "19\n",
      "23\n",
      "29\n",
      "31\n",
      "37\n",
      "41\n",
      "43\n",
      "47\n",
      "53\n",
      "59\n",
      "61\n",
      "67\n",
      "71\n"
     ]
    }
   ],
   "source": [
    "def prime_numbers_generator():\n",
    "    yield 2\n",
    "    primes = [2]\n",
    "    for candidate in range(3, 1000):\n",
    "        is_prime = True\n",
    "        for prime in primes:\n",
    "            if prime > candidate**0.5:\n",
    "                break\n",
    "            if candidate % prime == 0:\n",
    "                is_prime = False\n",
    "                break\n",
    "        if is_prime:\n",
    "            primes.append(candidate)\n",
    "            yield candidate\n",
    "\n",
    "gen = prime_numbers_generator()\n",
    "for i in range(20):\n",
    "    print(next(gen))\n",
    "\n",
    "        "
   ]
  },
  {
   "cell_type": "markdown",
   "id": "e7725702",
   "metadata": {},
   "source": [
    "# Answer 6)."
   ]
  },
  {
   "cell_type": "code",
   "execution_count": 6,
   "id": "9198de5c",
   "metadata": {},
   "outputs": [
    {
     "name": "stdout",
     "output_type": "stream",
     "text": [
      "ENter The element you are looking for10\n",
      "0\n",
      "1\n",
      "1\n",
      "2\n",
      "3\n",
      "5\n",
      "8\n",
      "13\n",
      "21\n",
      "34\n"
     ]
    }
   ],
   "source": [
    "number = int(input(\"ENter The element you are looking for\"))\n",
    "a, b = 0, 1\n",
    "counter = 0\n",
    "while counter < number :\n",
    "    print(a)\n",
    "    c = a + b\n",
    "    a = b\n",
    "    b = c\n",
    "    counter = counter + 1  \n",
    "    "
   ]
  },
  {
   "cell_type": "code",
   "execution_count": null,
   "id": "49b1d8a0",
   "metadata": {},
   "outputs": [],
   "source": []
  },
  {
   "cell_type": "markdown",
   "id": "e38de535",
   "metadata": {},
   "source": [
    "# Answer 7)."
   ]
  },
  {
   "cell_type": "code",
   "execution_count": 33,
   "id": "fc0081d8",
   "metadata": {},
   "outputs": [],
   "source": [
    "string = \"pwskills\""
   ]
  },
  {
   "cell_type": "code",
   "execution_count": 35,
   "id": "e3e783e2",
   "metadata": {},
   "outputs": [],
   "source": [
    "output = [i for i in string]"
   ]
  },
  {
   "cell_type": "code",
   "execution_count": 36,
   "id": "992b90ae",
   "metadata": {},
   "outputs": [
    {
     "name": "stdout",
     "output_type": "stream",
     "text": [
      "['p', 'w', 's', 'k', 'i', 'l', 'l', 's']\n"
     ]
    }
   ],
   "source": [
    "print(output)"
   ]
  },
  {
   "cell_type": "markdown",
   "id": "4ae9f21c",
   "metadata": {},
   "source": [
    "# Answer 8)."
   ]
  },
  {
   "cell_type": "code",
   "execution_count": 35,
   "id": "fd0a4c75",
   "metadata": {},
   "outputs": [
    {
     "name": "stdout",
     "output_type": "stream",
     "text": [
      "Enter a number:313\n",
      "The number is palindrome!\n"
     ]
    }
   ],
   "source": [
    "num = int(input(\"Enter a number:\"))\n",
    "temp = num\n",
    "rev = 0\n",
    "while num>0:\n",
    "    last_digit = num%10\n",
    "    rev = rev*10 + last_digit\n",
    "    num = num//10\n",
    "if(temp==rev):\n",
    "    print(\"The number is palindrome!\")\n",
    "else:\n",
    "    print(\"Not a palindrome!\")"
   ]
  },
  {
   "cell_type": "markdown",
   "id": "a16b0177",
   "metadata": {},
   "source": [
    "# Answer 9)."
   ]
  },
  {
   "cell_type": "code",
   "execution_count": 27,
   "id": "63aeea52",
   "metadata": {},
   "outputs": [],
   "source": [
    "numbers = [i for i in range(1,101)]"
   ]
  },
  {
   "cell_type": "code",
   "execution_count": 28,
   "id": "bd48365f",
   "metadata": {},
   "outputs": [
    {
     "name": "stdout",
     "output_type": "stream",
     "text": [
      "[1, 2, 3, 4, 5, 6, 7, 8, 9, 10, 11, 12, 13, 14, 15, 16, 17, 18, 19, 20, 21, 22, 23, 24, 25, 26, 27, 28, 29, 30, 31, 32, 33, 34, 35, 36, 37, 38, 39, 40, 41, 42, 43, 44, 45, 46, 47, 48, 49, 50, 51, 52, 53, 54, 55, 56, 57, 58, 59, 60, 61, 62, 63, 64, 65, 66, 67, 68, 69, 70, 71, 72, 73, 74, 75, 76, 77, 78, 79, 80, 81, 82, 83, 84, 85, 86, 87, 88, 89, 90, 91, 92, 93, 94, 95, 96, 97, 98, 99, 100]\n"
     ]
    }
   ],
   "source": [
    "print(numbers)"
   ]
  },
  {
   "cell_type": "code",
   "execution_count": 31,
   "id": "70ce0bce",
   "metadata": {},
   "outputs": [],
   "source": [
    "odd_number = [i for i in numbers  if i%2!= 0]"
   ]
  },
  {
   "cell_type": "code",
   "execution_count": 32,
   "id": "02b08802",
   "metadata": {},
   "outputs": [
    {
     "name": "stdout",
     "output_type": "stream",
     "text": [
      "[1, 3, 5, 7, 9, 11, 13, 15, 17, 19, 21, 23, 25, 27, 29, 31, 33, 35, 37, 39, 41, 43, 45, 47, 49, 51, 53, 55, 57, 59, 61, 63, 65, 67, 69, 71, 73, 75, 77, 79, 81, 83, 85, 87, 89, 91, 93, 95, 97, 99]\n"
     ]
    }
   ],
   "source": [
    "print(odd_number)"
   ]
  },
  {
   "cell_type": "code",
   "execution_count": null,
   "id": "d6898149",
   "metadata": {},
   "outputs": [],
   "source": []
  }
 ],
 "metadata": {
  "kernelspec": {
   "display_name": "Python 3 (ipykernel)",
   "language": "python",
   "name": "python3"
  },
  "language_info": {
   "codemirror_mode": {
    "name": "ipython",
    "version": 3
   },
   "file_extension": ".py",
   "mimetype": "text/x-python",
   "name": "python",
   "nbconvert_exporter": "python",
   "pygments_lexer": "ipython3",
   "version": "3.9.13"
  }
 },
 "nbformat": 4,
 "nbformat_minor": 5
}
