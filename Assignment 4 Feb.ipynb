{
 "cells": [
  {
   "cell_type": "markdown",
   "id": "b247dbec",
   "metadata": {},
   "source": [
    "# Answer 1)."
   ]
  },
  {
   "cell_type": "code",
   "execution_count": 7,
   "id": "9d8cafcb",
   "metadata": {},
   "outputs": [
    {
     "name": "stdout",
     "output_type": "stream",
     "text": [
      "Sorted List:  [('Virat Kohli', 24936), ('Jack Kallis', 25534), ('Ricky Ponting', 27483), ('Sachin Tendulkar', 34357)]\n"
     ]
    }
   ],
   "source": [
    "list_of_tuples = [('Sachin Tendulkar', 34357), ('Ricky Ponting', 27483), ('Jack Kallis', 25534), ('Virat Kohli', 24936)]\n",
    "\n",
    "sorted_list = sorted(list_of_tuples, key=lambda x: x[1])\n",
    "\n",
    "print(\"Sorted List: \", sorted_list)\n"
   ]
  },
  {
   "cell_type": "markdown",
   "id": "fa9237a1",
   "metadata": {},
   "source": [
    "# Answer 2)."
   ]
  },
  {
   "cell_type": "code",
   "execution_count": 8,
   "id": "c8ac662a",
   "metadata": {},
   "outputs": [
    {
     "data": {
      "text/plain": [
       "[1, 4, 9, 16, 25, 36, 49, 64, 81, 100]"
      ]
     },
     "execution_count": 8,
     "metadata": {},
     "output_type": "execute_result"
    }
   ],
   "source": [
    "numbers = [1, 2, 3, 4, 5, 6, 7, 8, 9, 10]\n",
    "\n",
    "list(map(lambda x:x**2, numbers))"
   ]
  },
  {
   "cell_type": "markdown",
   "id": "a48cfac0",
   "metadata": {},
   "source": [
    "# Answer 3)."
   ]
  },
  {
   "cell_type": "code",
   "execution_count": 31,
   "id": "0372d94f",
   "metadata": {},
   "outputs": [
    {
     "name": "stdout",
     "output_type": "stream",
     "text": [
      " Squares of all the numbers is : ('1', '2', '3', '4', '5', '6', '7', '8', '9', '10')\n"
     ]
    }
   ],
   "source": [
    "list_of_integer_numbers = [1, 2, 3, 4, 5, 6, 7, 8, 9, 10]\n",
    "\n",
    "result = tuple(map(lambda x: str(x),list_of_integer_numbers ))\n",
    "\n",
    "print(\" Squares of all the numbers is :\", result)"
   ]
  },
  {
   "cell_type": "markdown",
   "id": "03127c2b",
   "metadata": {},
   "source": [
    "# Answer 4)."
   ]
  },
  {
   "cell_type": "code",
   "execution_count": 16,
   "id": "7314e3c9",
   "metadata": {},
   "outputs": [
    {
     "name": "stdout",
     "output_type": "stream",
     "text": [
      "[1, 2, 3, 4, 5, 6, 7, 8, 9, 10, 11, 12, 13, 14, 15, 16, 17, 18, 19, 20, 21, 22, 23, 24, 25]\n"
     ]
    }
   ],
   "source": [
    "l1 = []\n",
    "for i in range(1,26):\n",
    "    l1.append(i)\n",
    "print(l1)"
   ]
  },
  {
   "cell_type": "code",
   "execution_count": 22,
   "id": "4c1fb45a",
   "metadata": {},
   "outputs": [],
   "source": [
    "from functools import reduce"
   ]
  },
  {
   "cell_type": "code",
   "execution_count": 28,
   "id": "937b21c6",
   "metadata": {},
   "outputs": [
    {
     "name": "stdout",
     "output_type": "stream",
     "text": [
      "The product of a list containing numbers form 1 to 25 is :  625\n"
     ]
    }
   ],
   "source": [
    "product = reduce(lambda x, product: product*i,l1)\n",
    "\n",
    "print(\"The product of a list containing numbers form 1 to 25 is : \", product)"
   ]
  },
  {
   "cell_type": "markdown",
   "id": "5276da77",
   "metadata": {},
   "source": [
    "# Answer 5)."
   ]
  },
  {
   "cell_type": "code",
   "execution_count": 24,
   "id": "83089958",
   "metadata": {},
   "outputs": [],
   "source": [
    "numbers = [2, 3, 6, 9, 27, 60, 90, 120, 55, 46]"
   ]
  },
  {
   "cell_type": "code",
   "execution_count": 26,
   "id": "acc5546d",
   "metadata": {},
   "outputs": [
    {
     "name": "stdout",
     "output_type": "stream",
     "text": [
      "The numbers in a given list that are divisible by 2 and 3 is : [6, 60, 90, 120]\n"
     ]
    }
   ],
   "source": [
    "result = list(filter(lambda x: x%2==0 and x%3==0 ,numbers))\n",
    "\n",
    "print(\"The numbers in a given list that are divisible by 2 and 3 is :\", result)"
   ]
  },
  {
   "cell_type": "markdown",
   "id": "2052fe8d",
   "metadata": {},
   "source": [
    "# Answer 6). "
   ]
  },
  {
   "cell_type": "code",
   "execution_count": 30,
   "id": "f202c68a",
   "metadata": {},
   "outputs": [
    {
     "name": "stdout",
     "output_type": "stream",
     "text": [
      "Palindromes: ['php', 'aba', 'radar', 'level']\n"
     ]
    }
   ],
   "source": [
    "list_of_strings = ['python', 'php', 'aba', 'radar', 'level']\n",
    "\n",
    "result = list(filter(lambda x: x == x[::-1], list_of_strings))\n",
    "\n",
    "print(\"Palindromes:\", result)"
   ]
  },
  {
   "cell_type": "code",
   "execution_count": null,
   "id": "9d2a410f",
   "metadata": {},
   "outputs": [],
   "source": []
  }
 ],
 "metadata": {
  "kernelspec": {
   "display_name": "Python 3 (ipykernel)",
   "language": "python",
   "name": "python3"
  },
  "language_info": {
   "codemirror_mode": {
    "name": "ipython",
    "version": 3
   },
   "file_extension": ".py",
   "mimetype": "text/x-python",
   "name": "python",
   "nbconvert_exporter": "python",
   "pygments_lexer": "ipython3",
   "version": "3.9.13"
  }
 },
 "nbformat": 4,
 "nbformat_minor": 5
}
