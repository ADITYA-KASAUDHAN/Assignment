{
 "cells": [
  {
   "cell_type": "markdown",
   "id": "0398720d",
   "metadata": {},
   "source": [
    "# Question 1."
   ]
  },
  {
   "cell_type": "code",
   "execution_count": null,
   "id": "c507ef7b",
   "metadata": {},
   "outputs": [],
   "source": [
    "# Q 1. Explain why we have to use the Exception class while creating a Custom Exception."
   ]
  },
  {
   "cell_type": "markdown",
   "id": "6c516b6d",
   "metadata": {},
   "source": [
    "A custom exception is a user-defined exception that extends the built-in Exception class. When you create a custom exception, you are essentially creating a new class that inherits from the Exception class, and adding your own specific behavior to the new class.\n",
    "\n",
    "The Exception class is used as the base class for custom exceptions because it provides a basic set of methods and attributes that are common to all types of exceptions. These include methods like '__str__' and '__repr__', which provide string representations of the exception object, as well as attributes like args, which store any arguments passed to the exception when it was raised.\n",
    "\n",
    "By extending the Exception class, we can add our own custom behavior to the new exception class, while still maintaining compatibility with the existing Python exception hierarchy. This allows us to catch and handle our custom exceptions just like any other built-in exception type, using Python's built-in exception handling mechanisms, such as try-except blocks.\n",
    "\n",
    "Here is an example of how to create a custom exception in Python:"
   ]
  },
  {
   "cell_type": "code",
   "execution_count": 2,
   "id": "e399c236",
   "metadata": {},
   "outputs": [],
   "source": [
    " class MyCustomException(Exception):\n",
    "    def __init__(self, message):\n",
    "        self.message = message\n",
    "\n",
    "    def __str__(self):\n",
    "        return self.message\n"
   ]
  },
  {
   "cell_type": "code",
   "execution_count": 3,
   "id": "fc0f75b5",
   "metadata": {},
   "outputs": [
    {
     "name": "stdout",
     "output_type": "stream",
     "text": [
      "Caught custom exception: Something went wrong\n"
     ]
    }
   ],
   "source": [
    "try:\n",
    "    # some code that may raise MyCustomException\n",
    "    raise MyCustomException(\"Something went wrong\")\n",
    "except MyCustomException as e:\n",
    "    # handle the exception here\n",
    "    print(\"Caught custom exception:\", e)\n"
   ]
  },
  {
   "cell_type": "markdown",
   "id": "b6fb53d3",
   "metadata": {},
   "source": [
    "# Question 2."
   ]
  },
  {
   "cell_type": "code",
   "execution_count": 4,
   "id": "9773b889",
   "metadata": {},
   "outputs": [],
   "source": [
    "# Q 2. Write a python program to print Python Exception Hierarchy."
   ]
  },
  {
   "cell_type": "code",
   "execution_count": 5,
   "id": "ba5c5bad",
   "metadata": {},
   "outputs": [
    {
     "name": "stdout",
     "output_type": "stream",
     "text": [
      "BaseException\n",
      "  Exception\n",
      "    TypeError\n",
      "      FloatOperation\n",
      "      MultipartConversionError\n",
      "    StopAsyncIteration\n",
      "    StopIteration\n",
      "    ImportError\n",
      "      ModuleNotFoundError\n",
      "      ZipImportError\n",
      "    OSError\n",
      "      ConnectionError\n",
      "        BrokenPipeError\n",
      "        ConnectionAbortedError\n",
      "        ConnectionRefusedError\n",
      "        ConnectionResetError\n",
      "          RemoteDisconnected\n",
      "      BlockingIOError\n",
      "      ChildProcessError\n",
      "      FileExistsError\n",
      "      FileNotFoundError\n",
      "      IsADirectoryError\n",
      "      NotADirectoryError\n",
      "      InterruptedError\n",
      "        InterruptedSystemCall\n",
      "      PermissionError\n",
      "      ProcessLookupError\n",
      "      TimeoutError\n",
      "      UnsupportedOperation\n",
      "      herror\n",
      "      gaierror\n",
      "      timeout\n",
      "      SSLError\n",
      "        SSLCertVerificationError\n",
      "        SSLZeroReturnError\n",
      "        SSLWantReadError\n",
      "        SSLWantWriteError\n",
      "        SSLSyscallError\n",
      "        SSLEOFError\n",
      "      Error\n",
      "        SameFileError\n",
      "      SpecialFileError\n",
      "      ExecError\n",
      "      ReadError\n",
      "      URLError\n",
      "        HTTPError\n",
      "        ContentTooShortError\n",
      "      BadGzipFile\n",
      "    EOFError\n",
      "      IncompleteReadError\n",
      "    RuntimeError\n",
      "      RecursionError\n",
      "      NotImplementedError\n",
      "        ZMQVersionError\n",
      "        StdinNotImplementedError\n",
      "      _DeadlockError\n",
      "      BrokenBarrierError\n",
      "      BrokenExecutor\n",
      "        BrokenThreadPool\n",
      "      SendfileNotAvailableError\n",
      "      ExtractionError\n",
      "      VariableError\n",
      "    NameError\n",
      "      UnboundLocalError\n",
      "    AttributeError\n",
      "      FrozenInstanceError\n",
      "    SyntaxError\n",
      "      IndentationError\n",
      "        TabError\n",
      "    LookupError\n",
      "      IndexError\n",
      "      KeyError\n",
      "        NoSuchKernel\n",
      "        UnknownBackend\n",
      "      CodecRegistryError\n",
      "    ValueError\n",
      "      UnicodeError\n",
      "        UnicodeEncodeError\n",
      "        UnicodeDecodeError\n",
      "        UnicodeTranslateError\n",
      "      UnsupportedOperation\n",
      "      JSONDecodeError\n",
      "      SSLCertVerificationError\n",
      "      Error\n",
      "      IllegalMonthError\n",
      "      IllegalWeekdayError\n",
      "      ParserError\n",
      "      ClassNotFound\n",
      "      ClipboardEmpty\n",
      "      MessageDefect\n",
      "        NoBoundaryInMultipartDefect\n",
      "        StartBoundaryNotFoundDefect\n",
      "        CloseBoundaryNotFoundDefect\n",
      "        FirstHeaderLineIsContinuationDefect\n",
      "        MisplacedEnvelopeHeaderDefect\n",
      "        MissingHeaderBodySeparatorDefect\n",
      "        MultipartInvariantViolationDefect\n",
      "        InvalidMultipartContentTransferEncodingDefect\n",
      "        UndecodableBytesDefect\n",
      "        InvalidBase64PaddingDefect\n",
      "        InvalidBase64CharactersDefect\n",
      "        InvalidBase64LengthDefect\n",
      "        HeaderDefect\n",
      "          InvalidHeaderDefect\n",
      "          HeaderMissingRequiredValue\n",
      "          NonPrintableDefect\n",
      "          ObsoleteHeaderDefect\n",
      "          NonASCIILocalPartDefect\n",
      "      MacroToEdit\n",
      "      InvalidFileException\n",
      "      UnequalIterablesError\n",
      "      InvalidVersion\n",
      "      _InvalidELFFileHeader\n",
      "      InvalidWheelFilename\n",
      "      InvalidSdistFilename\n",
      "      InvalidSpecifier\n",
      "      InvalidMarker\n",
      "      UndefinedComparison\n",
      "      UndefinedEnvironmentName\n",
      "      InvalidRequirement\n",
      "        RequirementParseError\n",
      "      InvalidVersion\n",
      "    AssertionError\n",
      "    ArithmeticError\n",
      "      FloatingPointError\n",
      "      OverflowError\n",
      "      ZeroDivisionError\n",
      "        DivisionByZero\n",
      "        DivisionUndefined\n",
      "      DecimalException\n",
      "        Clamped\n",
      "        Rounded\n",
      "          Underflow\n",
      "          Overflow\n",
      "        Inexact\n",
      "          Underflow\n",
      "          Overflow\n",
      "        Subnormal\n",
      "          Underflow\n",
      "        DivisionByZero\n",
      "        FloatOperation\n",
      "        InvalidOperation\n",
      "          ConversionSyntax\n",
      "          DivisionImpossible\n",
      "          DivisionUndefined\n",
      "          InvalidContext\n",
      "    SystemError\n",
      "      CodecRegistryError\n",
      "    ReferenceError\n",
      "    MemoryError\n",
      "    BufferError\n",
      "    Warning\n",
      "      UserWarning\n",
      "        GetPassWarning\n",
      "        FormatterWarning\n",
      "      DeprecationWarning\n",
      "        ProvisionalWarning\n",
      "      PendingDeprecationWarning\n",
      "      SyntaxWarning\n",
      "      RuntimeWarning\n",
      "        ProactorSelectorThreadWarning\n",
      "        UnknownTimezoneWarning\n",
      "        PEP440Warning\n",
      "      FutureWarning\n",
      "        ProvisionalCompleterWarning\n",
      "      ImportWarning\n",
      "      UnicodeWarning\n",
      "      BytesWarning\n",
      "      ResourceWarning\n",
      "      DeprecatedTzFormatWarning\n",
      "      PkgResourcesDeprecationWarning\n",
      "    Error\n",
      "    _OptionError\n",
      "    error\n",
      "    Verbose\n",
      "    _Error\n",
      "    SubprocessError\n",
      "      CalledProcessError\n",
      "      TimeoutExpired\n",
      "    TokenError\n",
      "    StopTokenizing\n",
      "    ClassFoundException\n",
      "    EndOfBlock\n",
      "    TraitError\n",
      "    Error\n",
      "    Error\n",
      "      CancelledError\n",
      "      TimeoutError\n",
      "      InvalidStateError\n",
      "    _GiveupOnSendfile\n",
      "    error\n",
      "    Incomplete\n",
      "    TimeoutError\n",
      "    InvalidStateError\n",
      "    LimitOverrunError\n",
      "    QueueEmpty\n",
      "    QueueFull\n",
      "    error\n",
      "    LZMAError\n",
      "    RegistryError\n",
      "    _GiveupOnFastCopy\n",
      "    Empty\n",
      "    Full\n",
      "    ZMQBaseError\n",
      "      ZMQError\n",
      "        ContextTerminated\n",
      "        Again\n",
      "        InterruptedSystemCall\n",
      "      ZMQBindError\n",
      "      NotDone\n",
      "    PickleError\n",
      "      PicklingError\n",
      "      UnpicklingError\n",
      "    _Stop\n",
      "    ArgumentError\n",
      "    ArgumentTypeError\n",
      "    ConfigError\n",
      "      ConfigLoaderError\n",
      "        ArgumentError\n",
      "      ConfigFileNotFound\n",
      "    ConfigurableError\n",
      "      MultipleInstanceError\n",
      "    ApplicationError\n",
      "    TimeoutError\n",
      "    COMError\n",
      "    ArgumentError\n",
      "    ReturnValueIgnoredError\n",
      "    KeyReuseError\n",
      "    UnknownKeyError\n",
      "    LeakedCallbackError\n",
      "    BadYieldError\n",
      "    ReturnValueIgnoredError\n",
      "    Return\n",
      "    InvalidPortNumber\n",
      "    NoIPAddresses\n",
      "    BadZipFile\n",
      "    LargeZipFile\n",
      "    Error\n",
      "      NoSectionError\n",
      "      DuplicateSectionError\n",
      "      DuplicateOptionError\n",
      "      NoOptionError\n",
      "      InterpolationError\n",
      "        InterpolationMissingOptionError\n",
      "        InterpolationSyntaxError\n",
      "        InterpolationDepthError\n",
      "      ParsingError\n",
      "        MissingSectionHeaderError\n",
      "    BadEntryPoint\n",
      "    NoSuchEntryPoint\n",
      "    DuplicateKernelError\n",
      "    ErrorDuringImport\n",
      "    BdbQuit\n",
      "    Restart\n",
      "    FindCmdError\n",
      "    HomeDirError\n",
      "    ProfileDirError\n",
      "    IPythonCoreError\n",
      "      TryNext\n",
      "      UsageError\n",
      "      StdinNotImplementedError\n",
      "    InputRejected\n",
      "    GetoptError\n",
      "    OptionError\n",
      "    ErrorToken\n",
      "    PrefilterError\n",
      "    AliasError\n",
      "      InvalidAliasError\n",
      "    Error\n",
      "      InterfaceError\n",
      "      DatabaseError\n",
      "        InternalError\n",
      "        OperationalError\n",
      "        ProgrammingError\n",
      "        IntegrityError\n",
      "        DataError\n",
      "        NotSupportedError\n",
      "    Warning\n",
      "    SpaceInInput\n",
      "    DOMException\n",
      "      IndexSizeErr\n",
      "      DomstringSizeErr\n",
      "      HierarchyRequestErr\n",
      "      WrongDocumentErr\n",
      "      InvalidCharacterErr\n",
      "      NoDataAllowedErr\n",
      "      NoModificationAllowedErr\n",
      "      NotFoundErr\n",
      "      NotSupportedErr\n",
      "      InuseAttributeErr\n",
      "      InvalidStateErr\n",
      "      SyntaxErr\n",
      "      InvalidModificationErr\n",
      "      NamespaceErr\n",
      "      InvalidAccessErr\n",
      "      ValidationErr\n",
      "    ValidationError\n",
      "    EditReadOnlyBuffer\n",
      "    _Retry\n",
      "    InvalidLayoutError\n",
      "    HeightIsUnknownError\n",
      "    ParserSyntaxError\n",
      "    InternalParseError\n",
      "    _PositionUpdatingFinished\n",
      "    SimpleGetItemNotFound\n",
      "    UncaughtAttributeError\n",
      "    HasNoContext\n",
      "    ParamIssue\n",
      "    _JediError\n",
      "      InternalError\n",
      "      WrongVersion\n",
      "      RefactoringError\n",
      "    OnErrorLeaf\n",
      "    InvalidPythonEnvironment\n",
      "    MessageError\n",
      "      MessageParseError\n",
      "        HeaderParseError\n",
      "        BoundaryError\n",
      "      MultipartConversionError\n",
      "      CharsetError\n",
      "    Error\n",
      "    HTTPException\n",
      "      NotConnected\n",
      "      InvalidURL\n",
      "      UnknownProtocol\n",
      "      UnknownTransferEncoding\n",
      "      UnimplementedFileMode\n",
      "      IncompleteRead\n",
      "      ImproperConnectionState\n",
      "        CannotSendRequest\n",
      "        CannotSendHeader\n",
      "        ResponseNotReady\n",
      "      BadStatusLine\n",
      "        RemoteDisconnected\n",
      "      LineTooLong\n",
      "    InteractivelyDefined\n",
      "    KillEmbedded\n",
      "    Error\n",
      "      NoSuchProcess\n",
      "        ZombieProcess\n",
      "      AccessDenied\n",
      "      TimeoutExpired\n",
      "    Error\n",
      "    TimeoutExpired\n",
      "    TimeoutAbandoned\n",
      "    QueueEmpty\n",
      "    QueueFull\n",
      "    ExpatError\n",
      "    Error\n",
      "      ProtocolError\n",
      "      ResponseError\n",
      "      Fault\n",
      "    error\n",
      "    com_error\n",
      "    internal_error\n",
      "    ParseBaseException\n",
      "      ParseException\n",
      "      ParseFatalException\n",
      "        ParseSyntaxException\n",
      "    RecursiveGrammarException\n",
      "    ResolutionError\n",
      "      VersionConflict\n",
      "        ContextualVersionConflict\n",
      "      DistributionNotFound\n",
      "      UnknownExtra\n",
      "    UnableToResolveVariableException\n",
      "    InvalidTypeInArgsException\n",
      "    MyCustomException\n",
      "  GeneratorExit\n",
      "  SystemExit\n",
      "  KeyboardInterrupt\n",
      "  CancelledError\n",
      "  DebuggerInitializationError\n",
      "  AbortThread\n"
     ]
    }
   ],
   "source": [
    "import builtins\n",
    "\n",
    "def print_exception_hierarchy(exception_class, indent=0):\n",
    "    print(\"  \" * indent + exception_class.__name__)\n",
    "    for subclass in exception_class.__subclasses__():\n",
    "        print_exception_hierarchy(subclass, indent+1)\n",
    "\n",
    "print_exception_hierarchy(builtins.BaseException)\n"
   ]
  },
  {
   "cell_type": "markdown",
   "id": "1d5037ed",
   "metadata": {},
   "source": [
    "# Question 3."
   ]
  },
  {
   "cell_type": "code",
   "execution_count": 6,
   "id": "cc7031da",
   "metadata": {},
   "outputs": [],
   "source": [
    "# Q3. What errors are defined in the ArithmeticError class? Explain any two with an example."
   ]
  },
  {
   "cell_type": "markdown",
   "id": "1586128c",
   "metadata": {},
   "source": [
    "The ArithmeticError class in Python is a built-in exception class that is used to represent errors that occur during arithmetic operations. This class is the base class for a number of more specific arithmetic error classes, each of which represents a different type of arithmetic error.\n",
    "\n",
    "The ArithmeticError class itself does not define any specific errors. Instead, it is used as a base class for more specific exceptions that are related to arithmetic errors.\n",
    "\n",
    "Here are two examples of specific arithmetic errors that are derived from the ArithmeticError class:\n",
    "\n",
    "* ZeroDivisionError: This error is raised when a division operation is attempted and the divisor is zero. For example:"
   ]
  },
  {
   "cell_type": "code",
   "execution_count": 10,
   "id": "26e776b2",
   "metadata": {},
   "outputs": [
    {
     "ename": "ZeroDivisionError",
     "evalue": "division by zero",
     "output_type": "error",
     "traceback": [
      "\u001b[1;31m---------------------------------------------------------------------------\u001b[0m",
      "\u001b[1;31mZeroDivisionError\u001b[0m                         Traceback (most recent call last)",
      "\u001b[1;32m~\\AppData\\Local\\Temp\\ipykernel_1792\\1249648436.py\u001b[0m in \u001b[0;36m<module>\u001b[1;34m\u001b[0m\n\u001b[0;32m      1\u001b[0m \u001b[0mx\u001b[0m \u001b[1;33m=\u001b[0m \u001b[1;36m10\u001b[0m\u001b[1;33m\u001b[0m\u001b[1;33m\u001b[0m\u001b[0m\n\u001b[0;32m      2\u001b[0m \u001b[0my\u001b[0m \u001b[1;33m=\u001b[0m \u001b[1;36m0\u001b[0m\u001b[1;33m\u001b[0m\u001b[1;33m\u001b[0m\u001b[0m\n\u001b[1;32m----> 3\u001b[1;33m \u001b[0mz\u001b[0m \u001b[1;33m=\u001b[0m \u001b[0mx\u001b[0m \u001b[1;33m/\u001b[0m \u001b[0my\u001b[0m  \u001b[1;31m# raises ZeroDivisionError\u001b[0m\u001b[1;33m\u001b[0m\u001b[1;33m\u001b[0m\u001b[0m\n\u001b[0m",
      "\u001b[1;31mZeroDivisionError\u001b[0m: division by zero"
     ]
    }
   ],
   "source": [
    "x = 10\n",
    "y = 0\n",
    "z = x / y  # raises ZeroDivisionError\n"
   ]
  },
  {
   "cell_type": "markdown",
   "id": "b031ddfe",
   "metadata": {},
   "source": [
    "In this example, the variable y is set to 0, and then we attempt to divide the variable x by y. Since division by zero is undefined, this raises a ZeroDivisionError.\n",
    "\n",
    "* OverflowError: This error is raised when an arithmetic operation produces a value that is too large to be represented by the given data type. For example:"
   ]
  },
  {
   "cell_type": "code",
   "execution_count": 15,
   "id": "bbea4a8a",
   "metadata": {},
   "outputs": [],
   "source": [
    "x = 2 ** 1000  # raises OverflowError\n"
   ]
  },
  {
   "cell_type": "markdown",
   "id": "8004166c",
   "metadata": {},
   "source": [
    "In this example, we attempt to calculate 2 to the power of 1000, which produces a very large integer value. However, this value is too large to be represented by the int data type in Python, and so an OverflowError is raised."
   ]
  },
  {
   "cell_type": "markdown",
   "id": "581b62bd",
   "metadata": {},
   "source": [
    "# Question 5."
   ]
  },
  {
   "cell_type": "code",
   "execution_count": 12,
   "id": "62471a04",
   "metadata": {},
   "outputs": [],
   "source": [
    "#  Q4. Why LookupError class is used? Explain with an example KeyError and IndexError."
   ]
  },
  {
   "cell_type": "markdown",
   "id": "e3803a39",
   "metadata": {},
   "source": [
    "The LookupError class in Python is a base class for exceptions that are related to lookup operations, such as indexing or dictionary lookups. This class is used when an index or key is not found in a sequence or mapping object.\n",
    "\n",
    "The LookupError class does not define any specific errors, but it is used as a base class for more specific exceptions that are related to lookup errors.\n",
    "\n",
    "Here are two examples of specific lookup errors that are derived from the LookupError class:\n",
    "\n",
    "1. KeyError: This error is raised when a dictionary key is not found in the dictionary. For example:"
   ]
  },
  {
   "cell_type": "code",
   "execution_count": 16,
   "id": "b8118570",
   "metadata": {},
   "outputs": [
    {
     "ename": "KeyError",
     "evalue": "'d'",
     "output_type": "error",
     "traceback": [
      "\u001b[1;31m---------------------------------------------------------------------------\u001b[0m",
      "\u001b[1;31mKeyError\u001b[0m                                  Traceback (most recent call last)",
      "\u001b[1;32m~\\AppData\\Local\\Temp\\ipykernel_1792\\1341043397.py\u001b[0m in \u001b[0;36m<module>\u001b[1;34m\u001b[0m\n\u001b[0;32m      1\u001b[0m \u001b[0mmy_dict\u001b[0m \u001b[1;33m=\u001b[0m \u001b[1;33m{\u001b[0m\u001b[1;34m'a'\u001b[0m\u001b[1;33m:\u001b[0m \u001b[1;36m1\u001b[0m\u001b[1;33m,\u001b[0m \u001b[1;34m'b'\u001b[0m\u001b[1;33m:\u001b[0m \u001b[1;36m2\u001b[0m\u001b[1;33m,\u001b[0m \u001b[1;34m'c'\u001b[0m\u001b[1;33m:\u001b[0m \u001b[1;36m3\u001b[0m\u001b[1;33m}\u001b[0m\u001b[1;33m\u001b[0m\u001b[1;33m\u001b[0m\u001b[0m\n\u001b[1;32m----> 2\u001b[1;33m \u001b[0mvalue\u001b[0m \u001b[1;33m=\u001b[0m \u001b[0mmy_dict\u001b[0m\u001b[1;33m[\u001b[0m\u001b[1;34m'd'\u001b[0m\u001b[1;33m]\u001b[0m  \u001b[1;31m# raises KeyError\u001b[0m\u001b[1;33m\u001b[0m\u001b[1;33m\u001b[0m\u001b[0m\n\u001b[0m",
      "\u001b[1;31mKeyError\u001b[0m: 'd'"
     ]
    }
   ],
   "source": [
    "my_dict = {'a': 1, 'b': 2, 'c': 3}\n",
    "value = my_dict['d']  # raises KeyError"
   ]
  },
  {
   "cell_type": "markdown",
   "id": "ff6ca893",
   "metadata": {},
   "source": [
    "In this example, the dictionary my_dict does not have a key called 'd', so when we attempt to access the value associated with that key, a KeyError is raised.\n",
    "\n",
    "2. IndexError: This error is raised when an index is out of range for a sequence (e.g. a list or tuple). For example:"
   ]
  },
  {
   "cell_type": "code",
   "execution_count": 21,
   "id": "c70f82d1",
   "metadata": {},
   "outputs": [
    {
     "ename": "IndexError",
     "evalue": "list index out of range",
     "output_type": "error",
     "traceback": [
      "\u001b[1;31m---------------------------------------------------------------------------\u001b[0m",
      "\u001b[1;31mIndexError\u001b[0m                                Traceback (most recent call last)",
      "\u001b[1;32m~\\AppData\\Local\\Temp\\ipykernel_1792\\372963479.py\u001b[0m in \u001b[0;36m<module>\u001b[1;34m\u001b[0m\n\u001b[0;32m      1\u001b[0m \u001b[0mmy_list\u001b[0m \u001b[1;33m=\u001b[0m \u001b[1;33m[\u001b[0m\u001b[1;36m1\u001b[0m\u001b[1;33m,\u001b[0m \u001b[1;36m2\u001b[0m\u001b[1;33m,\u001b[0m \u001b[1;36m3\u001b[0m\u001b[1;33m]\u001b[0m\u001b[1;33m\u001b[0m\u001b[1;33m\u001b[0m\u001b[0m\n\u001b[1;32m----> 2\u001b[1;33m \u001b[0mvalue\u001b[0m \u001b[1;33m=\u001b[0m \u001b[0mmy_list\u001b[0m\u001b[1;33m[\u001b[0m\u001b[1;36m3\u001b[0m\u001b[1;33m]\u001b[0m  \u001b[1;31m# raises IndexError\u001b[0m\u001b[1;33m\u001b[0m\u001b[1;33m\u001b[0m\u001b[0m\n\u001b[0m",
      "\u001b[1;31mIndexError\u001b[0m: list index out of range"
     ]
    }
   ],
   "source": [
    "my_list = [1, 2, 3]\n",
    "value = my_list[3]  # raises IndexError"
   ]
  },
  {
   "cell_type": "markdown",
   "id": "6e299218",
   "metadata": {},
   "source": [
    "In this example, the list my_list has three elements, with indices 0, 1, and 2. When we attempt to access the element at index 3, which is out of range, an IndexError is raised."
   ]
  },
  {
   "cell_type": "markdown",
   "id": "59d07777",
   "metadata": {},
   "source": [
    "# Question 5."
   ]
  },
  {
   "cell_type": "code",
   "execution_count": 22,
   "id": "f89ab9c5",
   "metadata": {},
   "outputs": [],
   "source": [
    "#  Q5. Explain ImportError. What is ModuleNotFoundError?"
   ]
  },
  {
   "cell_type": "markdown",
   "id": "80fb8ff9",
   "metadata": {},
   "source": [
    "ImportError and ModuleNotFoundError are both Python exceptions that are raised when a module cannot be imported. However, they are used in different contexts and with different Python versions.\n",
    "\n",
    "ImportError is a built-in exception that has been available in Python since version 1.5. It is raised when a module is found, but cannot be imported for some reason. For example, if you try to import a module that does not exist or if the module's file has a syntax error, an ImportError will be raised. Here is an example:"
   ]
  },
  {
   "cell_type": "code",
   "execution_count": 23,
   "id": "d28dc363",
   "metadata": {},
   "outputs": [
    {
     "name": "stdout",
     "output_type": "stream",
     "text": [
      "ImportError: No module named 'my_module'\n"
     ]
    }
   ],
   "source": [
    "try:\n",
    "    import my_module\n",
    "except ImportError as e:\n",
    "    print(f\"ImportError: {e}\")\n"
   ]
  },
  {
   "cell_type": "markdown",
   "id": "c47ec413",
   "metadata": {},
   "source": [
    "ModuleNotFoundError, on the other hand, is a more specific exception that was added in Python 3.6. It is raised when a module cannot be found during import. For example, if you try to import a module that does not exist, you will get a ModuleNotFoundError. Here is an example:"
   ]
  },
  {
   "cell_type": "code",
   "execution_count": 24,
   "id": "387c7ece",
   "metadata": {},
   "outputs": [
    {
     "name": "stdout",
     "output_type": "stream",
     "text": [
      "ModuleNotFoundError: No module named 'my_module'\n"
     ]
    }
   ],
   "source": [
    "try:\n",
    "    import my_module\n",
    "except ModuleNotFoundError as e:\n",
    "    print(f\"ModuleNotFoundError: {e}\")\n"
   ]
  },
  {
   "cell_type": "markdown",
   "id": "71b23693",
   "metadata": {},
   "source": [
    "If you are using Python 3.6 or later, it is recommended to use ModuleNotFoundError instead of ImportError when you are handling import errors. However, if you are writing code that needs to be compatible with older versions of Python, you should use ImportError."
   ]
  },
  {
   "cell_type": "markdown",
   "id": "d4537658",
   "metadata": {},
   "source": [
    "# Question 6."
   ]
  },
  {
   "cell_type": "code",
   "execution_count": 14,
   "id": "72bb7fa1",
   "metadata": {},
   "outputs": [],
   "source": [
    "#  Q6. List down some best practices for exception handling in python."
   ]
  },
  {
   "cell_type": "markdown",
   "id": "904a4f4b",
   "metadata": {},
   "source": [
    "Exception handling is an important aspect of writing robust and reliable Python code. Here are some best practices for exception handling in Python:\n",
    "\n",
    "1. Catch specific exceptions: Instead of using a general try/except block to catch all exceptions, catch only the specific exceptions that you know might occur. This makes your code more precise and easier to understand.\n",
    "\n",
    "2. Use multiple except blocks: If you need to catch multiple types of exceptions, use multiple except blocks. This makes your code more readable and helps to prevent errors.\n",
    "\n",
    "3. Don't catch Exception: Avoid using except Exception to catch all exceptions, because this can mask errors that you may not be aware of. Instead, catch only the specific exceptions that you know might occur.\n",
    "\n",
    "4. Keep the try block as small as possible: Try to keep the try block as small as possible, to limit the amount of code that is subject to potential errors. This makes it easier to understand and debug your code.\n",
    "\n",
    "5. Always include an else block: Use an else block to include code that should be executed if no exceptions are raised. This helps to keep your code organized and improves readability.\n",
    "\n",
    "6. Avoid using finally for cleanup: While finally can be useful for cleanup tasks, it can also mask exceptions that occur during cleanup. Instead, use context managers (with statements) to ensure that cleanup code is always executed.\n",
    "\n",
    "7. Log exceptions: Logging exceptions can help you to understand what went wrong and how to fix it. Use a logging framework (such as Python's built-in logging module) to log exceptions and other errors.\n",
    "\n",
    "8. Reraise exceptions when appropriate: If you catch an exception but cannot handle it, consider re-raising the exception using raise. This allows the exception to propagate up the call stack to a higher-level handler.\n",
    "\n",
    "By following these best practices, you can write code that is more robust, reliable, and easier to maintain."
   ]
  },
  {
   "cell_type": "markdown",
   "id": "8119709f",
   "metadata": {},
   "source": []
  }
 ],
 "metadata": {
  "kernelspec": {
   "display_name": "Python 3 (ipykernel)",
   "language": "python",
   "name": "python3"
  },
  "language_info": {
   "codemirror_mode": {
    "name": "ipython",
    "version": 3
   },
   "file_extension": ".py",
   "mimetype": "text/x-python",
   "name": "python",
   "nbconvert_exporter": "python",
   "pygments_lexer": "ipython3",
   "version": "3.9.13"
  }
 },
 "nbformat": 4,
 "nbformat_minor": 5
}
