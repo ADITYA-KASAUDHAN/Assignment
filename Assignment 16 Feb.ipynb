{
 "cells": [
  {
   "cell_type": "markdown",
   "id": "27b79223",
   "metadata": {},
   "source": [
    "# Question 1"
   ]
  },
  {
   "cell_type": "markdown",
   "id": "10a1872b",
   "metadata": {},
   "source": [
    "What is a database? Differentiate between SQL and NoSQL databases."
   ]
  },
  {
   "cell_type": "code",
   "execution_count": 2,
   "id": "39aa9e28",
   "metadata": {},
   "outputs": [],
   "source": [
    "# Answer "
   ]
  },
  {
   "cell_type": "markdown",
   "id": "1d7e606b",
   "metadata": {},
   "source": [
    "A database is an organized collection of data that can be accessed, managed, and updated. It is designed to facilitate the storage, retrieval, modification, and deletion of data in a structured way. Databases can be used for a variety of purposes, including managing business operations, storing customer data, and facilitating research.\n",
    "\n",
    "SQL and NoSQL are two types of databases that differ in their data model, structure, and approach to data storage and retrieval.\n",
    "\n",
    "* SQL databases (also called Relational Databases) use a structured query language (SQL) to manage data. They organize data into tables with defined columns and rows, and use predefined relationships to link data between tables. Examples of SQL databases include MySQL, Oracle, and Microsoft SQL Server.\n",
    "\n",
    "* NoSQL databases, on the other hand, use a variety of data models for storing and retrieving data, such as document-oriented, key-value, graph, and column-family models. These databases are often used for storing unstructured or semi-structured data, such as social media data or sensor data. Examples of NoSQL databases include MongoDB, Cassandra, and Redis.\n",
    "\n",
    "Some of the key differences between SQL and NoSQL databases are:\n",
    "\n",
    "1. Data structure: SQL databases use a table structure with defined columns and rows, while NoSQL databases use different data models, such as document-oriented or key-value models.\n",
    "\n",
    "2. Query language: SQL databases use the structured query language (SQL) to manage and retrieve data, while NoSQL databases may use different query languages or APIs depending on the data model used.\n",
    "\n",
    "3. Scalability: NoSQL databases are often designed to be more scalable and flexible than SQL databases, making them suitable for large-scale distributed systems.\n",
    "\n",
    "4. Consistency: SQL databases typically enforce strong consistency guarantees, while NoSQL databases may provide weaker consistency guarantees in order to achieve better scalability and availability.\n",
    "\n",
    "Overall, the choice between SQL and NoSQL databases depends on the specific use case, the type of data being stored, and the scalability and consistency requirements of the system."
   ]
  },
  {
   "cell_type": "markdown",
   "id": "fcbbb391",
   "metadata": {},
   "source": [
    "# Question 2"
   ]
  },
  {
   "cell_type": "markdown",
   "id": "f4bf2d69",
   "metadata": {},
   "source": [
    "What is DDL? Explain why CREATE, DROP, ALTER, and TRUNCATE are used with an example."
   ]
  },
  {
   "cell_type": "code",
   "execution_count": 3,
   "id": "e2f66780",
   "metadata": {},
   "outputs": [],
   "source": [
    "# Answer"
   ]
  },
  {
   "cell_type": "markdown",
   "id": "0d1e247f",
   "metadata": {},
   "source": [
    "DDL stands for Data Definition Language, and it is a set of SQL commands that are used to create, modify, and delete database objects such as tables, indexes, and constraints. DDL commands are used to define the structure of a database, specify constraints, and modify the schema of the database.\n",
    "\n",
    "Here are some common DDL commands and their usage:\n",
    "    \n",
    "1. CREATE: The CREATE command is used to create new database objects, such as tables, indexes, views, or stored procedures. For example, the following SQL statement creates a new table named \"Customer\" with columns for \"id\", \"name\", \"email\", and \"phone\":"
   ]
  },
  {
   "cell_type": "code",
   "execution_count": null,
   "id": "732241f1",
   "metadata": {},
   "outputs": [],
   "source": [
    "CREATE TABLE if not exists Customer.test_table(id  INT, name VARCHAR(50),email VARCHAR(20), phone INT)"
   ]
  },
  {
   "cell_type": "markdown",
   "id": "db17b7a9",
   "metadata": {},
   "source": [
    "2. DROP: The DROP command is used to delete database objects, such as tables, views, or indexes. For example, the following SQL statement drops the \"Customer\" table:"
   ]
  },
  {
   "cell_type": "code",
   "execution_count": null,
   "id": "ac0e6dc7",
   "metadata": {},
   "outputs": [],
   "source": [
    "DROP TABLE Customer.test_table;"
   ]
  },
  {
   "cell_type": "markdown",
   "id": "c0683189",
   "metadata": {},
   "source": [
    "3. ALTER: The ALTER command is used to modify the structure of an existing database object, such as a table or a view. For example, the following SQL statement adds a new column named \"address\" to the \"Customer\" table:"
   ]
  },
  {
   "cell_type": "markdown",
   "id": "8ace5d7d",
   "metadata": {},
   "source": [
    "ALTER TABLE Customer.test_table\n",
    "ADD address VARCHAR(100);"
   ]
  },
  {
   "cell_type": "markdown",
   "id": "c2c1db7b",
   "metadata": {},
   "source": [
    "4. TRUNCATE: The TRUNCATE command is used to delete all the data from a table, but keep the table structure intact. This is useful when you want to remove all the data from a table without deleting the table itself. For example, the following SQL statement truncates the \"Customer\" table:"
   ]
  },
  {
   "cell_type": "code",
   "execution_count": null,
   "id": "7b6af526",
   "metadata": {},
   "outputs": [],
   "source": [
    "TRUNCATE TABLE Customer.test_table;\n"
   ]
  },
  {
   "cell_type": "markdown",
   "id": "cf500961",
   "metadata": {},
   "source": [
    "# Question 3"
   ]
  },
  {
   "cell_type": "markdown",
   "id": "bc7d5d9f",
   "metadata": {},
   "source": [
    "What is DML? Explain INSERT, UPDATE, and DELETE with an example."
   ]
  },
  {
   "cell_type": "code",
   "execution_count": 4,
   "id": "3b0120a6",
   "metadata": {},
   "outputs": [],
   "source": [
    "# Answer"
   ]
  },
  {
   "cell_type": "markdown",
   "id": "4226fa1f",
   "metadata": {},
   "source": [
    "DML stands for Data Manipulation Language, and it is a set of SQL commands that are used to insert, update, and delete data in a database. DML commands are used to manipulate the contents of a database and are used more frequently than DDL commands.\n",
    "\n",
    "Here are some common DML commands and their usage:\n",
    "\n",
    "1. INSERT: The INSERT command is used to insert new data into a table. For example, the following SQL statement inserts a new row into the \"Customer\" table with values for the \"id\", \"name\", \"email\", and \"phone\" columns:"
   ]
  },
  {
   "cell_type": "code",
   "execution_count": null,
   "id": "7495d713",
   "metadata": {},
   "outputs": [],
   "source": [
    "INSERT INTO Customer.test_table VALUES(1, 'aditya', 'aditya189@gmail.com', '73683152', 'hansupur')"
   ]
  },
  {
   "cell_type": "markdown",
   "id": "dfb9e45e",
   "metadata": {},
   "source": [
    "2. UPDATE: The UPDATE command is used to modify existing data in a table. For example, the following SQL statement updates the phone number for the customer with an id of 1:"
   ]
  },
  {
   "cell_type": "code",
   "execution_count": null,
   "id": "8b1b5cd4",
   "metadata": {},
   "outputs": [],
   "source": [
    "UPDATE Customer.test_table\n",
    "SET phone = '555-5678'\n",
    "WHERE id = 1;"
   ]
  },
  {
   "cell_type": "markdown",
   "id": "2e2bac1e",
   "metadata": {},
   "source": [
    "3. DELETE: The DELETE command is used to delete data from a table. For example, the following SQL statement deletes the customer with an id of 1:"
   ]
  },
  {
   "cell_type": "code",
   "execution_count": null,
   "id": "df2abd78",
   "metadata": {},
   "outputs": [],
   "source": [
    "DELETE FROM Customer.test_table\n",
    "WHERE id = 1;"
   ]
  },
  {
   "cell_type": "markdown",
   "id": "a25b0442",
   "metadata": {},
   "source": [
    "# Question 4"
   ]
  },
  {
   "cell_type": "markdown",
   "id": "1d997f81",
   "metadata": {},
   "source": [
    "What is DQL? Explain SELECT with an example."
   ]
  },
  {
   "cell_type": "code",
   "execution_count": 5,
   "id": "12c3de50",
   "metadata": {},
   "outputs": [],
   "source": [
    "# Answer"
   ]
  },
  {
   "cell_type": "markdown",
   "id": "7211aedf",
   "metadata": {},
   "source": [
    "DQL stands for Data Query Language, and it is a set of SQL commands that are used to retrieve data from a database. DQL commands are used to select data from one or more tables in a database.\n",
    "\n",
    "The most common DQL command is SELECT, which is used to retrieve data from one or more tables. The SELECT command is used to specify the columns to be retrieved, the table or tables to retrieve data from, and any conditions to filter the data.\n",
    "\n",
    "Here's an example of the SELECT command:"
   ]
  },
  {
   "cell_type": "code",
   "execution_count": null,
   "id": "75f3134f",
   "metadata": {},
   "outputs": [],
   "source": [
    "SELECT * from `Customer`.test_table;"
   ]
  },
  {
   "cell_type": "markdown",
   "id": "7d9190b5",
   "metadata": {},
   "source": [
    "# Question 5"
   ]
  },
  {
   "cell_type": "markdown",
   "id": "b371aea5",
   "metadata": {},
   "source": [
    "Explain Primary Key and Foreign Key."
   ]
  },
  {
   "cell_type": "code",
   "execution_count": 6,
   "id": "dbc0ae89",
   "metadata": {},
   "outputs": [],
   "source": [
    "# Answer"
   ]
  },
  {
   "cell_type": "markdown",
   "id": "fbb4492f",
   "metadata": {},
   "source": [
    "* A primary key is a column or a set of columns that uniquely identifies each row in a table. A primary key is used to enforce data integrity and ensure that each row in a table is unique.\n",
    "\n",
    "* A foreign key is a column or a set of columns in one table that refers to the primary key of another table. A foreign key is used to establish a relationship between two tables, allowing data to be retrieved from multiple tables using a single query. The table that contains the foreign key is called the referencing table, and the table that contains the primary key that it references is called the referenced table."
   ]
  },
  {
   "cell_type": "markdown",
   "id": "b0416e88",
   "metadata": {},
   "source": [
    "# Question 6"
   ]
  },
  {
   "cell_type": "markdown",
   "id": "b3cb5bf3",
   "metadata": {},
   "source": [
    "Write a python code to connect MySQL to python. Explain the cursor() and execute() method."
   ]
  },
  {
   "cell_type": "code",
   "execution_count": 7,
   "id": "6a61a440",
   "metadata": {},
   "outputs": [],
   "source": [
    "# Answer"
   ]
  },
  {
   "cell_type": "code",
   "execution_count": null,
   "id": "774d514e",
   "metadata": {},
   "outputs": [],
   "source": [
    "import mysql.connector\n",
    "# import mysql.connector\n",
    "#create user 'user'@'%' identified by 'password'\n",
    "mydb = mysql.connector.connect(\n",
    "  host=\"localhost\",\n",
    "  user=\"abc\",\n",
    "  password=\"password\"\n",
    ")\n",
    "print(mydb)\n",
    "mycursor = mydb.cursor()\n",
    "mycursor.execute(\"SHOW DATABASES\")\n",
    "for x in mycursor:\n",
    "    print(x)"
   ]
  },
  {
   "cell_type": "markdown",
   "id": "bcd196aa",
   "metadata": {},
   "source": [
    "* cursor(): The cursor() method of the database connection object is used to create a cursor object that can be used to execute SQL queries."
   ]
  },
  {
   "cell_type": "markdown",
   "id": "d19370bc",
   "metadata": {},
   "source": [
    "* execute() :The execute() method of the cursor object is used to execute a SQL query on the database. It takes a SQL query as a parameter and returns nothing. "
   ]
  },
  {
   "cell_type": "markdown",
   "id": "f66c7374",
   "metadata": {},
   "source": [
    "# Question 7"
   ]
  },
  {
   "cell_type": "markdown",
   "id": "729c6724",
   "metadata": {},
   "source": [
    "Give the order of execution of SQL clauses in an SQL query"
   ]
  },
  {
   "cell_type": "code",
   "execution_count": 13,
   "id": "c5da85f8",
   "metadata": {},
   "outputs": [],
   "source": [
    "# Answer"
   ]
  },
  {
   "cell_type": "markdown",
   "id": "a8521d7c",
   "metadata": {},
   "source": [
    "1. FROM clause: This clause identifies the tables or views from which the data is being retrieved.\n",
    "\n",
    "2. JOIN clause: This clause joins multiple tables based on the specified join condition.\n",
    "\n",
    "3. WHERE clause: This clause filters the rows that satisfy the specified conditions.\n",
    "\n",
    "4. GROUP BY clause: This clause groups the rows based on the specified columns.\n",
    "\n",
    "5. HAVING clause: This clause filters the groups that satisfy the specified conditions.\n",
    "\n",
    "6. SELECT clause: This clause selects the columns that are to be included in the result set.\n",
    "\n",
    "7. DISTINCT clause: This clause eliminates duplicate rows from the result set.\n",
    "\n",
    "8. ORDER BY clause: This clause sorts the rows in the result set based on the specified column(s).\n",
    "\n",
    "9. LIMIT/OFFSET clause: This clause limits the number of rows returned in the result set."
   ]
  },
  {
   "cell_type": "code",
   "execution_count": null,
   "id": "4446d12a",
   "metadata": {},
   "outputs": [],
   "source": []
  }
 ],
 "metadata": {
  "kernelspec": {
   "display_name": "Python 3 (ipykernel)",
   "language": "python",
   "name": "python3"
  },
  "language_info": {
   "codemirror_mode": {
    "name": "ipython",
    "version": 3
   },
   "file_extension": ".py",
   "mimetype": "text/x-python",
   "name": "python",
   "nbconvert_exporter": "python",
   "pygments_lexer": "ipython3",
   "version": "3.9.13"
  }
 },
 "nbformat": 4,
 "nbformat_minor": 5
}
