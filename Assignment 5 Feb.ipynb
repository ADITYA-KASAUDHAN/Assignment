{
 "cells": [
  {
   "cell_type": "markdown",
   "id": "531f4e56",
   "metadata": {},
   "source": [
    "# Qustion 1"
   ]
  },
  {
   "cell_type": "code",
   "execution_count": null,
   "id": "5a0d24f0",
   "metadata": {},
   "outputs": [],
   "source": [
    "# Explain Class and Object with respect to Object-Oriented Programming. \n",
    "# Give a suitable example."
   ]
  },
  {
   "cell_type": "code",
   "execution_count": 20,
   "id": "c4f78690",
   "metadata": {},
   "outputs": [],
   "source": [
    "# Answer 1:"
   ]
  },
  {
   "cell_type": "markdown",
   "id": "4b239071",
   "metadata": {},
   "source": [
    "Class :  Class is buleprint of creating objects, providing initial values for state, and implementations of behavior.\n",
    "        \n",
    "Object : A object is ian instance of class. It has the same behavior as defined in its class, but can have unique attribute values.     "
   ]
  },
  {
   "cell_type": "code",
   "execution_count": 6,
   "id": "6611f69f",
   "metadata": {},
   "outputs": [],
   "source": [
    "class myclass:     # class\n",
    "    def myfunction(self):   # Propertyo of myclass\n",
    "        print(\"Hello myfunction\")\n",
    "        \n",
    "# Creating an object name is m1\n",
    "m1 =  myclass()\n",
    "m1.myfunction()"
   ]
  },
  {
   "cell_type": "code",
   "execution_count": null,
   "id": "67990cb7",
   "metadata": {},
   "outputs": [],
   "source": [
    "# In this example, myclass is the class. and m1 is the object of that class."
   ]
  },
  {
   "cell_type": "markdown",
   "id": "b8a2bd0a",
   "metadata": {},
   "source": [
    "# Question 2"
   ]
  },
  {
   "cell_type": "code",
   "execution_count": 21,
   "id": "a0aaa863",
   "metadata": {},
   "outputs": [],
   "source": [
    "# Name the four pillars of OOPs."
   ]
  },
  {
   "cell_type": "code",
   "execution_count": 23,
   "id": "ad5c88a1",
   "metadata": {},
   "outputs": [],
   "source": [
    "# Answer 2 :"
   ]
  },
  {
   "cell_type": "markdown",
   "id": "98fd336d",
   "metadata": {},
   "source": [
    "* Abstraction\n",
    "* Encapsulation\n",
    "* Inheritance\n",
    "* Polymorphism"
   ]
  },
  {
   "cell_type": "markdown",
   "id": "f7bf2fb4",
   "metadata": {},
   "source": [
    "# Question 3"
   ]
  },
  {
   "cell_type": "code",
   "execution_count": 24,
   "id": "f6b03d47",
   "metadata": {},
   "outputs": [],
   "source": [
    "# Explain why the __init__() function is used. \n",
    "# Give a suitable example."
   ]
  },
  {
   "cell_type": "code",
   "execution_count": null,
   "id": "8f1ac99a",
   "metadata": {},
   "outputs": [],
   "source": [
    "# Answer 3 :"
   ]
  },
  {
   "cell_type": "markdown",
   "id": "d788cf9a",
   "metadata": {},
   "source": [
    "* The __init__() function, also known as the constructor, is used to initialize an object's state when it is created. \n",
    "* The __init__() function is run automatically when an object is created from a class and it allows you to set the initial values for the object's attributes."
   ]
  },
  {
   "cell_type": "code",
   "execution_count": 8,
   "id": "51f7ef7a",
   "metadata": {},
   "outputs": [
    {
     "name": "stdout",
     "output_type": "stream",
     "text": [
      "This is my constructor\n"
     ]
    }
   ],
   "source": [
    "class myclass:\n",
    "    # Creating a constructir\n",
    "    def __init__(self):\n",
    "        print(\"This is my constructor\")\n",
    " \n",
    "# Creating an object\n",
    "m1 = myclass()\n",
    "        "
   ]
  },
  {
   "cell_type": "markdown",
   "id": "84c27f67",
   "metadata": {},
   "source": [
    "# Question 4"
   ]
  },
  {
   "cell_type": "code",
   "execution_count": 26,
   "id": "ef14b635",
   "metadata": {},
   "outputs": [],
   "source": [
    "# Why self is used in OOPs?"
   ]
  },
  {
   "cell_type": "code",
   "execution_count": 27,
   "id": "4effd61b",
   "metadata": {},
   "outputs": [],
   "source": [
    "# Answer 4 :"
   ]
  },
  {
   "cell_type": "code",
   "execution_count": 28,
   "id": "d6396f0f",
   "metadata": {},
   "outputs": [],
   "source": [
    "# The self  is used as a reference to the instance of current object on which a method is being called. \n",
    "# It is a standard convention in Python to use self as the first parameter of a method within a class.\n",
    "\n",
    "# When you call a method on an object, Python automatically passes a reference to the object as the first argument to the method. "
   ]
  },
  {
   "cell_type": "code",
   "execution_count": 29,
   "id": "e6e75282",
   "metadata": {},
   "outputs": [
    {
     "name": "stdout",
     "output_type": "stream",
     "text": [
      "Hello myfunction\n"
     ]
    }
   ],
   "source": [
    "class myclass:\n",
    "    def myfunction(self):   # Propertyo of myclass\n",
    "        print(\"Hello myfunction\")\n",
    "        \n",
    "# Creating an object\n",
    "m1 =  myclass()\n",
    "m1.myfunction()"
   ]
  },
  {
   "cell_type": "markdown",
   "id": "aa080717",
   "metadata": {},
   "source": [
    "# Question 5"
   ]
  },
  {
   "cell_type": "code",
   "execution_count": 30,
   "id": "da646f79",
   "metadata": {},
   "outputs": [],
   "source": [
    "# What is inheritance? \n",
    "# Give an example for each type of inheritance."
   ]
  },
  {
   "cell_type": "code",
   "execution_count": 31,
   "id": "365390ae",
   "metadata": {},
   "outputs": [],
   "source": [
    "# Answer 5)."
   ]
  },
  {
   "cell_type": "markdown",
   "id": "3a610348",
   "metadata": {},
   "source": [
    "Inheritance allows us to define a class that inherits all the methods and properties from another class."
   ]
  },
  {
   "cell_type": "code",
   "execution_count": 32,
   "id": "396ab2b6",
   "metadata": {},
   "outputs": [],
   "source": [
    "# Single Inheritance"
   ]
  },
  {
   "cell_type": "code",
   "execution_count": 33,
   "id": "5b47151b",
   "metadata": {},
   "outputs": [
    {
     "name": "stdout",
     "output_type": "stream",
     "text": [
      "Parent Class Function Called\n",
      "Child Class Function Called\n"
     ]
    }
   ],
   "source": [
    "class ParentClass:  # Parent Class\n",
    "    def myfunction1(self): # Parent class Property\n",
    "        print(\"Parent Class Function Called\")\n",
    "        \n",
    "class ChildClass(ParentClass):   # Child class which inherit Parent Class\n",
    "    def myfunction2(self):       # Child class Property\n",
    "        print(\"Child Class Function Called\")\n",
    "        \n",
    "# Creating an object of childclass\n",
    "\n",
    "c1 = ChildClass()\n",
    "c1.myfunction1()\n",
    "c1.myfunction2()"
   ]
  },
  {
   "cell_type": "code",
   "execution_count": 34,
   "id": "e2b7b3ef",
   "metadata": {},
   "outputs": [],
   "source": [
    "# Multilevel Inheritance"
   ]
  },
  {
   "cell_type": "code",
   "execution_count": 35,
   "id": "9de11ad5",
   "metadata": {},
   "outputs": [
    {
     "name": "stdout",
     "output_type": "stream",
     "text": [
      "Parent class is called\n",
      "SubParent Class is Called\n",
      "Child class is Called\n"
     ]
    }
   ],
   "source": [
    "class ParentClass:   # Parent class\n",
    "    def myfunction1(self):  # Parent class Property\n",
    "        print(\"Parent class is called\")\n",
    "        \n",
    "class SubParentClass(ParentClass):   # Sub Parent Class\n",
    "    def myfunction2(self): # Sub Parent Class Property\n",
    "        print(\"SubParent Class is Called\")\n",
    "\n",
    "class ChildClass(SubParentClass):   # Child Class\n",
    "    def myfunction3(self):   # Child Class Property\n",
    "        print(\"Child class is Called\")\n",
    "        \n",
    "x1 = ChildClass()\n",
    "x1.myfunction1()\n",
    "x1.myfunction2()\n",
    "x1.myfunction3()"
   ]
  },
  {
   "cell_type": "code",
   "execution_count": 36,
   "id": "7561020d",
   "metadata": {},
   "outputs": [],
   "source": [
    "# Multiple Inheritance"
   ]
  },
  {
   "cell_type": "code",
   "execution_count": 37,
   "id": "d58c61fa",
   "metadata": {},
   "outputs": [
    {
     "name": "stdout",
     "output_type": "stream",
     "text": [
      "Parent Class Function Called\n",
      "Second Parent Function Called \n",
      "Child Class Fuunction Called\n"
     ]
    }
   ],
   "source": [
    "class Parent_Class_1:   # First Parent Class\n",
    "    def myfunction1(self):\n",
    "        print(\"Parent Class Function Called\")\n",
    "class Parent_Class_2:  # Second Parent Class\n",
    "    def myfunction2(self):\n",
    "        print(\"Second Parent Function Called \")\n",
    "\n",
    "class Child_Class(Parent_Class_1,Parent_Class_2): # Child Class\n",
    "    def myfunction3(self):\n",
    "        print(\"Child Class Fuunction Called\")\n",
    "        \n",
    "# Creating an Object Class of Child CLass\n",
    "\n",
    "c1 = Child_Class()\n",
    "c1.myfunction1()\n",
    "c1.myfunction2()\n",
    "c1.myfunction3()"
   ]
  },
  {
   "cell_type": "code",
   "execution_count": 38,
   "id": "0ecbe1c3",
   "metadata": {},
   "outputs": [],
   "source": [
    "# Hierarchical Inheritance"
   ]
  },
  {
   "cell_type": "code",
   "execution_count": 39,
   "id": "a063310a",
   "metadata": {},
   "outputs": [
    {
     "name": "stdout",
     "output_type": "stream",
     "text": [
      "Parent Class Function Called\n",
      "Child Class 1 Function Called\n",
      "Parent Class Function Called\n",
      "Child Class 2 Function Called\n"
     ]
    }
   ],
   "source": [
    "class Parent_Class:  # Parent Class\n",
    "    def myfunction1(self):\n",
    "        print(\"Parent Class Function Called\")\n",
    "        \n",
    "class Child_Class_1(Parent_Class):  # first Child Class\n",
    "    def myfunction2(self):\n",
    "        print(\"Child Class 1 Function Called\")\n",
    "        \n",
    "class Child_Class_2(Parent_Class):            # Second Child Class\n",
    "    def myfunction3(self):\n",
    "        print(\"Child Class 2 Function Called\")\n",
    "\n",
    "        # Creating Two objects one for first child class and second for second child class        \n",
    "c1 = Child_Class_1()\n",
    "c2 = Child_Class_2()\n",
    "\n",
    "c1.myfunction1()  # Function of class Parent Class\n",
    "c1.myfunction2() # Function of class  first Child Class\n",
    "\n",
    "c2.myfunction1()  # Function of class Parent Class\n",
    "c2.myfunction3() # Function of class Second child Class"
   ]
  },
  {
   "cell_type": "code",
   "execution_count": 40,
   "id": "d873a002",
   "metadata": {},
   "outputs": [],
   "source": [
    "# Hierarchical Inheritance"
   ]
  },
  {
   "cell_type": "code",
   "execution_count": 41,
   "id": "aef65004",
   "metadata": {},
   "outputs": [
    {
     "name": "stdout",
     "output_type": "stream",
     "text": [
      "Function of Class B1 \n",
      "Function of Class B2 \n",
      "Function of Class B3\n",
      "Function of Class B4 \n"
     ]
    }
   ],
   "source": [
    "class B1:  # Parent Class\n",
    "    def myfunction1(self):\n",
    "        print(\"Function of Class B1 \")\n",
    "        \n",
    "class B2(B1):  # Child Class\n",
    "    def myfunction2(self):\n",
    "        print(\"Function of Class B2 \")\n",
    "        \n",
    "class B3(B1):  # child class\n",
    "    def myfunction3(self):\n",
    "        print(\"Function of Class B3\")\n",
    "        \n",
    "class B4(B2,B3):  # Child Class\n",
    "    def myfunction4(self):\n",
    "        print(\"Function of Class B4 \")\n",
    "        \n",
    "# Creating an object of class B4\n",
    "\n",
    "b1 = B4() # object of class B4\n",
    "\n",
    "b1.myfunction1()\n",
    "b1.myfunction2()\n",
    "b1.myfunction3()\n",
    "b1.myfunction4()\n"
   ]
  }
 ],
 "metadata": {
  "kernelspec": {
   "display_name": "Python 3 (ipykernel)",
   "language": "python",
   "name": "python3"
  },
  "language_info": {
   "codemirror_mode": {
    "name": "ipython",
    "version": 3
   },
   "file_extension": ".py",
   "mimetype": "text/x-python",
   "name": "python",
   "nbconvert_exporter": "python",
   "pygments_lexer": "ipython3",
   "version": "3.9.13"
  }
 },
 "nbformat": 4,
 "nbformat_minor": 5
}
