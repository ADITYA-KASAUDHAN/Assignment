{
 "cells": [
  {
   "cell_type": "markdown",
   "id": "cbcdf8c8",
   "metadata": {},
   "source": [
    "# Question 1)."
   ]
  },
  {
   "cell_type": "code",
   "execution_count": 17,
   "id": "895362ab",
   "metadata": {},
   "outputs": [],
   "source": [
    "# What is Abstraction in OOPs ? Explain with an example."
   ]
  },
  {
   "cell_type": "code",
   "execution_count": 18,
   "id": "db1ab6d1",
   "metadata": {},
   "outputs": [],
   "source": [
    "# Answer 1:"
   ]
  },
  {
   "cell_type": "markdown",
   "id": "4b5df599",
   "metadata": {},
   "source": [
    "Abstraction in Object-Oriented Programming (OOP) is a mechanism of hiding the internal details and showing only the necessary information to the users.\n",
    "It is one of the four fundamental concepts of OOP, along with inheritance, encapsulation, and polymorphism. The main goal of abstraction is to reduce complexity and increase reusability of code by hiding the underlying implementation details and providing a simplified interface for the users to interact with.\n",
    "\n"
   ]
  },
  {
   "cell_type": "code",
   "execution_count": 19,
   "id": "9e75c73e",
   "metadata": {},
   "outputs": [
    {
     "name": "stdout",
     "output_type": "stream",
     "text": [
      "Circle area: 314.0\n",
      "Rectangle area: 600\n"
     ]
    }
   ],
   "source": [
    "class Shape:  # abstract Class\n",
    "    \n",
    "    def __init__(self, width, height):\n",
    "        self.width = width\n",
    "        self.height =height\n",
    "        \n",
    "    def area(self):          # Abstract method\n",
    "        pass\n",
    "\n",
    "class Circle(Shape):\n",
    "    \n",
    "    def __init__(self, radius):\n",
    "        self.radius = radius\n",
    "\n",
    "    def area(self):\n",
    "        return 3.14 * (self.radius ** 2)\n",
    "\n",
    "class Rectangle(Shape):\n",
    "\n",
    "    def area(self):\n",
    "        return self.height * self.width\n",
    "\n",
    "circle = Circle(10)\n",
    "rectangle = Rectangle(20, 30)\n",
    "\n",
    "print(\"Circle area:\", circle.area())\n",
    "print(\"Rectangle area:\", rectangle.area())"
   ]
  },
  {
   "cell_type": "markdown",
   "id": "2c1cc04d",
   "metadata": {},
   "source": [
    "In this example, the Shape class is an abstract base class. The area method in the Shape class is declared as an abstract method. This means that the Shape class cannot be instantiated and must be subclassed.\n",
    "\n",
    "The Circle and Rectangle classes are concrete classes that inherit from the Shape class. These classes provide an implementation for the abstract area method, which calculates the area of their respective shapes.\n",
    "\n",
    "By declaring the Shape class as an abstract base class and providing an abstract method for calculating the area of a shape, the implementation details of the area method are hidden from the users of the Circle and Rectangle classes. The users only need to know about the area method to interact with the objects, and the underlying implementation details are abstracted away."
   ]
  },
  {
   "cell_type": "markdown",
   "id": "facc402a",
   "metadata": {},
   "source": [
    "# Question 2."
   ]
  },
  {
   "cell_type": "code",
   "execution_count": 22,
   "id": "79a23146",
   "metadata": {},
   "outputs": [],
   "source": [
    "# Differenciate between Abstraction and Encapsulation. Explain with an Example."
   ]
  },
  {
   "cell_type": "code",
   "execution_count": 23,
   "id": "cb4fe4f7",
   "metadata": {},
   "outputs": [],
   "source": [
    "# Answer 2."
   ]
  },
  {
   "cell_type": "markdown",
   "id": "0a5dac95",
   "metadata": {},
   "source": [
    "Abstraction refers to the process of hiding the implementation details of an object and exposing only the essential features to the users. It allows us to focus on what the object does, rather than how it does it. Abstraction helps to simplify the complexity of an object and make it easier to understand and use."
   ]
  },
  {
   "cell_type": "markdown",
   "id": "7755d499",
   "metadata": {},
   "source": [
    " Encapsulation refers to the practice of keeping the implementation details of an object hidden from the outside world and accessible only through a defined interface. It is the process of grouping related data and functions into a single unit, known as an object. Encapsulation helps to achieve data hiding and protect the data from accidental or intentional modification from outside the object."
   ]
  },
  {
   "cell_type": "code",
   "execution_count": 24,
   "id": "de090f1f",
   "metadata": {},
   "outputs": [],
   "source": [
    "class Car:\n",
    "    def __init__(self, make, model, year):\n",
    "        self.__make = make\n",
    "        self.__model = model\n",
    "        self.__year = year\n",
    "\n",
    "    def start(self):\n",
    "        print(\"Starting the car\")\n",
    "        # implementation details are hidden\n",
    "\n",
    "    def stop(self):\n",
    "        print(\"Stopping the car\")\n",
    "        # implementation details are hidden\n",
    "\n",
    "# Abstraction\n",
    "# A user of the Car class doesn't need to know the implementation details of how the car starts and stops.\n",
    "# They just need to know the interface (start and stop methods) to use the car.\n",
    "\n",
    "# Encapsulation\n",
    "# The user can only access the make, model, and year information through the getters,\n",
    "# and can only change the information through the setters, ensuring data protection and integrity.\n"
   ]
  },
  {
   "cell_type": "markdown",
   "id": "962f86d1",
   "metadata": {},
   "source": [
    "# Question 3."
   ]
  },
  {
   "cell_type": "code",
   "execution_count": 25,
   "id": "f3db947c",
   "metadata": {},
   "outputs": [],
   "source": [
    "# What is abc module in Python ? Why it is used ?"
   ]
  },
  {
   "cell_type": "code",
   "execution_count": 26,
   "id": "7afcffc1",
   "metadata": {},
   "outputs": [],
   "source": [
    "# Answer "
   ]
  },
  {
   "cell_type": "markdown",
   "id": "84f5901c",
   "metadata": {},
   "source": [
    "The abc module in Python is the abstract base class module. It is used to define abstract base classes, which are classes that cannot be instantiated and can only be used as a base class for other classes.\n",
    "\n",
    "Abstract base classes are useful for creating a common interface for a set of related classes, allowing the creation of generic algorithms that can work with objects of any class that implements the interface. For example, you can define an abstract base class for a collection, and then define concrete classes for list, tuple, and set, which all inherit from the collection base class.\n",
    "\n",
    "The abc module provides a way to define abstract base classes in Python by using the ABC class as a base class. The ABC class provides the @abstractmethod decorator, which can be used to define abstract methods that must be implemented by any concrete class that inherits from the abstract base class. If a concrete class does not implement all the abstract methods, it will raise a TypeError when the class is defined."
   ]
  },
  {
   "cell_type": "code",
   "execution_count": 27,
   "id": "960f79ed",
   "metadata": {},
   "outputs": [
    {
     "name": "stdout",
     "output_type": "stream",
     "text": [
      "Rectangle area:  200\n"
     ]
    }
   ],
   "source": [
    "import abc\n",
    "\n",
    "class Shape(abc.ABC):\n",
    "    @abc.abstractmethod\n",
    "    def area(self):\n",
    "        pass\n",
    "\n",
    "class Rectangle(Shape):\n",
    "    def __init__(self, width, height):\n",
    "        self.width = width\n",
    "        self.height = height\n",
    "\n",
    "    def area(self):\n",
    "        return self.width * self.height\n",
    "\n",
    "rect = Rectangle(10, 20)\n",
    "print(\"Rectangle area: \", rect.area())\n"
   ]
  },
  {
   "cell_type": "markdown",
   "id": "95181a0b",
   "metadata": {},
   "source": [
    "In this example, the Shape class is defined as an abstract base class, and the Rectangle class is defined as a concrete class that implements the area method. When the Rectangle class is defined, it will raise a TypeError if it does not implement the area method, ensuring that all concrete classes that inherit from the Shape class implement the necessary interface.\n",
    "\n",
    "The abc module is used to enforce abstraction and define a common interface for a set of related classes in Python, making it easier to write generic algorithms that can work with objects of different classes that implement the same interface."
   ]
  },
  {
   "cell_type": "markdown",
   "id": "3dd799b9",
   "metadata": {},
   "source": [
    "# Question 4."
   ]
  },
  {
   "cell_type": "code",
   "execution_count": 29,
   "id": "db4bffb5",
   "metadata": {},
   "outputs": [],
   "source": [
    "# How can we achieve data abstraction ?"
   ]
  },
  {
   "cell_type": "code",
   "execution_count": 30,
   "id": "2a60972a",
   "metadata": {},
   "outputs": [],
   "source": [
    "# Answer 4."
   ]
  },
  {
   "cell_type": "markdown",
   "id": "fab9c974",
   "metadata": {},
   "source": [
    "here are two main ways to achieve abstraction in Python:\n",
    "\n",
    "* Abstract Base Classes (ABCs): This is a mechanism provided by the abc module in Python, which allows you to define an abstract base class that cannot be instantiated. Subclasses of the abstract base class must provide implementations for the abstract methods defined in the base class. This helps to enforce an interface and to ensure that the subclasses are properly implemented.\n",
    "\n",
    "* Encapsulation: This is a technique of wrapping data and functions that operate on the data within a single unit or object. Encapsulation provides a way to hide the internal details of an object and to expose only the methods and properties that are necessary for the user to interact with the object.\n",
    "\n",
    "Both abstract base classes and encapsulation can be used together to achieve abstraction in Python. For example, you can define an abstract base class to define an interface, and then you can use encapsulation to hide the implementation details of the concrete subclasses that implement the interface."
   ]
  },
  {
   "cell_type": "code",
   "execution_count": 5,
   "id": "8eb17e9d",
   "metadata": {},
   "outputs": [],
   "source": [
    "# can we create an instance of an abstract class ? Explain your answer."
   ]
  },
  {
   "cell_type": "code",
   "execution_count": null,
   "id": "29c759a6",
   "metadata": {},
   "outputs": [],
   "source": []
  }
 ],
 "metadata": {
  "kernelspec": {
   "display_name": "Python 3 (ipykernel)",
   "language": "python",
   "name": "python3"
  },
  "language_info": {
   "codemirror_mode": {
    "name": "ipython",
    "version": 3
   },
   "file_extension": ".py",
   "mimetype": "text/x-python",
   "name": "python",
   "nbconvert_exporter": "python",
   "pygments_lexer": "ipython3",
   "version": "3.9.13"
  }
 },
 "nbformat": 4,
 "nbformat_minor": 5
}
