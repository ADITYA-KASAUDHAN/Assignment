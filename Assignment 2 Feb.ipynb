{
 "cells": [
  {
   "cell_type": "markdown",
   "id": "e4622530",
   "metadata": {},
   "source": [
    "# Answer 1).\n"
   ]
  },
  {
   "cell_type": "markdown",
   "id": "c97a326f",
   "metadata": {},
   "source": [
    "A for loop is used when you have a known number of iterations that you want to perform, \n",
    "such as looping over a sequence of elements (e.g., a list or a range). \n",
    "For example, if you want to print the numbers 1 to 10, you can use a for loop like this:"
   ]
  },
  {
   "cell_type": "code",
   "execution_count": 1,
   "id": "dedc7851",
   "metadata": {},
   "outputs": [
    {
     "name": "stdout",
     "output_type": "stream",
     "text": [
      "1\n",
      "2\n",
      "3\n",
      "4\n",
      "5\n",
      "6\n",
      "7\n",
      "8\n",
      "9\n",
      "10\n"
     ]
    }
   ],
   "source": [
    "for i in range(1, 11):\n",
    "    print(i)\n"
   ]
  },
  {
   "cell_type": "markdown",
   "id": "eabd51e3",
   "metadata": {},
   "source": [
    "A while loop is used when you want to keep looping as long as a certain condition is met. For example, \n",
    "if you want to keep asking the user for their age until they enter a valid age (greater than 0), \n",
    "you can use a while loop like this:"
   ]
  },
  {
   "cell_type": "code",
   "execution_count": 2,
   "id": "9534ca8d",
   "metadata": {},
   "outputs": [
    {
     "name": "stdout",
     "output_type": "stream",
     "text": [
      "Enter your age: 18\n"
     ]
    }
   ],
   "source": [
    "age = int(input(\"Enter your age: \"))\n",
    "while age <= 0:\n",
    "    print(\"Invalid age. Please enter a valid age.\")\n",
    "    age = int(input(\"Enter your age: \"))\n"
   ]
  },
  {
   "cell_type": "markdown",
   "id": "fa6b6995",
   "metadata": {},
   "source": [
    "# Answer 2)."
   ]
  },
  {
   "cell_type": "code",
   "execution_count": 4,
   "id": "00bf0914",
   "metadata": {},
   "outputs": [
    {
     "name": "stdout",
     "output_type": "stream",
     "text": [
      "Sum_of_first_10_natural_number is : 55\n",
      "Product_of_first_10_natural_number is : 3628800\n"
     ]
    }
   ],
   "source": [
    "# using for loop\n",
    "\n",
    "Sum_of_first_10_natural_number = 0\n",
    "Product_of_first_10_natural_number = 1\n",
    " \n",
    "for i in range(1,11):\n",
    "    Sum_of_first_10_natural_number+=i\n",
    "    Product_of_first_10_natural_number*=i\n",
    "print(\"Sum_of_first_10_natural_number is :\",Sum_of_first_10_natural_number)\n",
    "print(\"Product_of_first_10_natural_number is :\",Product_of_first_10_natural_number)\n",
    "    \n"
   ]
  },
  {
   "cell_type": "code",
   "execution_count": 2,
   "id": "6a6ca860",
   "metadata": {},
   "outputs": [
    {
     "name": "stdout",
     "output_type": "stream",
     "text": [
      "Sum_of_first_10_natural_number is : 55\n",
      "Product_of_first_10_natural_number is : 3628800\n"
     ]
    }
   ],
   "source": [
    "# Using while loop\n",
    "\n",
    "Sum_of_first_10_natural_number = 0\n",
    "Product_of_first_10_natural_number = 1\n",
    "\n",
    "i=1\n",
    "while i <11:\n",
    "    Sum_of_first_10_natural_number+= i\n",
    "    Product_of_first_10_natural_number*= i\n",
    "    i+=1\n",
    "print(\"Sum_of_first_10_natural_number is :\",Sum_of_first_10_natural_number)\n",
    "print(\"Product_of_first_10_natural_number is :\",Product_of_first_10_natural_number)\n",
    "    \n"
   ]
  },
  {
   "cell_type": "markdown",
   "id": "ff2004e0",
   "metadata": {},
   "source": [
    "# Answer 3)."
   ]
  },
  {
   "cell_type": "code",
   "execution_count": 4,
   "id": "d3d2347b",
   "metadata": {},
   "outputs": [
    {
     "name": "stdout",
     "output_type": "stream",
     "text": [
      "Enter Number of Units Consumed :310\n",
      "Your Electricity Bill is : Rs. 2250.0\n"
     ]
    }
   ],
   "source": [
    "Units = int(input(\"Enter Number of Units Consumed :\"))\n",
    "\n",
    "if Units < 100:\n",
    "    bill = Units * 4.5\n",
    "elif Units < 200:\n",
    "    bill = 100 * 4.5 + (Units - 100)* 6\n",
    "elif Units < 300:\n",
    "    bill = 100 * 4.5 + 100 * 6 + (Units - 200) *10\n",
    "else:\n",
    "    bill = 100 * 4.5 + 100 * 6 + 100 * 10 + (Units - 300) *20\n",
    "print(\"Your Electricity Bill is : Rs.\",bill)"
   ]
  },
  {
   "cell_type": "markdown",
   "id": "580b1611",
   "metadata": {},
   "source": [
    "# Answer 4)."
   ]
  },
  {
   "cell_type": "code",
   "execution_count": 12,
   "id": "37405bde",
   "metadata": {},
   "outputs": [
    {
     "name": "stdout",
     "output_type": "stream",
     "text": [
      "[1, 2, 3, 4, 5, 6, 7, 8, 9, 10, 11, 12, 13, 14, 15, 16, 17, 18, 19, 20, 21, 22, 23, 24, 25, 26, 27, 28, 29, 30, 31, 32, 33, 34, 35, 36, 37, 38, 39, 40, 41, 42, 43, 44, 45, 46, 47, 48, 49, 50, 51, 52, 53, 54, 55, 56, 57, 58, 59, 60, 61, 62, 63, 64, 65, 66, 67, 68, 69, 70, 71, 72, 73, 74, 75, 76, 77, 78, 79, 80, 81, 82, 83, 84, 85, 86, 87, 88, 89, 90, 91, 92, 93, 94, 95, 96, 97, 98, 99, 100]\n"
     ]
    }
   ],
   "source": [
    "l =list(range(1,101))\n",
    "print(l)"
   ]
  },
  {
   "cell_type": "code",
   "execution_count": 24,
   "id": "ace56484",
   "metadata": {},
   "outputs": [
    {
     "name": "stdout",
     "output_type": "stream",
     "text": [
      "Numbers whose cubes are divisible by 4 or 5 (using for loop): [2, 4, 5, 6, 8, 10, 12, 14, 15, 16, 18, 20, 22, 24, 25, 26, 28, 30, 32, 34, 35, 36, 38, 40, 42, 44, 45, 46, 48, 50, 52, 54, 55, 56, 58, 60, 62, 64, 65, 66, 68, 70, 72, 74, 75, 76, 78, 80, 82, 84, 85, 86, 88, 90, 92, 94, 95, 96, 98, 100]\n"
     ]
    }
   ],
   "source": [
    "# using for loop\n",
    "l1 = []\n",
    "for i in l:\n",
    "    cubes = i**3\n",
    "    if (cubes % 4)==0 or (cubes % 5)==0:\n",
    "        l1.append(i)\n",
    "print(\"Numbers whose cubes are divisible by 4 or 5 (using for loop):\",l1)\n",
    "        \n",
    "    "
   ]
  },
  {
   "cell_type": "code",
   "execution_count": 31,
   "id": "3200cf4b",
   "metadata": {},
   "outputs": [
    {
     "name": "stdout",
     "output_type": "stream",
     "text": [
      "Numbers whose cubes are divisible by 4 or 5 (using while loop): [2, 4, 5, 6, 8, 10, 12, 14, 15, 16, 18, 20, 22, 24, 25, 26, 28, 30, 32, 34, 35, 36, 38, 40, 42, 44, 45, 46, 48, 50, 52, 54, 55, 56, 58, 60, 62, 64, 65, 66, 68, 70, 72, 74, 75, 76, 78, 80, 82, 84, 85, 86, 88, 90, 92, 94, 95, 96, 98, 100]\n"
     ]
    }
   ],
   "source": [
    "# Using While loop\n",
    "l2 = []\n",
    "i = 1\n",
    "while i <= 100:\n",
    "    cube = i**3\n",
    "    if cube % 4 == 0 or cube % 5 == 0:\n",
    "        l2.append(i)\n",
    "    i += 1\n",
    "\n",
    "print(\"Numbers whose cubes are divisible by 4 or 5 (using while loop):\", l2)\n"
   ]
  },
  {
   "cell_type": "markdown",
   "id": "c1bf8109",
   "metadata": {},
   "source": [
    "# Answer 5)."
   ]
  },
  {
   "cell_type": "code",
   "execution_count": 39,
   "id": "f4d37c34",
   "metadata": {},
   "outputs": [
    {
     "name": "stdout",
     "output_type": "stream",
     "text": [
      "Number of vowels in the given String is : 12\n"
     ]
    }
   ],
   "source": [
    "string = \"I want to become a data scientist\"\n",
    "vowels = \"aeiouAEIOU\"\n",
    "\n",
    "count = 0\n",
    "for i in string:\n",
    "    if i in vowels:\n",
    "        count+=1\n",
    "print(\"Number of vowels in the given String is :\", count)\n"
   ]
  },
  {
   "cell_type": "code",
   "execution_count": null,
   "id": "2e27ec72",
   "metadata": {},
   "outputs": [],
   "source": []
  }
 ],
 "metadata": {
  "kernelspec": {
   "display_name": "Python 3 (ipykernel)",
   "language": "python",
   "name": "python3"
  },
  "language_info": {
   "codemirror_mode": {
    "name": "ipython",
    "version": 3
   },
   "file_extension": ".py",
   "mimetype": "text/x-python",
   "name": "python",
   "nbconvert_exporter": "python",
   "pygments_lexer": "ipython3",
   "version": "3.9.13"
  }
 },
 "nbformat": 4,
 "nbformat_minor": 5
}
