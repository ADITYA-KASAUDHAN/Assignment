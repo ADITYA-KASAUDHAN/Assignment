{
 "cells": [
  {
   "cell_type": "markdown",
   "id": "b64c25db",
   "metadata": {},
   "source": [
    "# Q1. What is an Exception in python? Write the differene between Exceptions and Sntax errors."
   ]
  },
  {
   "cell_type": "markdown",
   "id": "afed06e4",
   "metadata": {},
   "source": [
    "an exception is an event that occurs during the execution of a program that disrupts the normal flow of the program's instructions. When an exception occurs, the interpreter raises an error and the program may terminate prematurely if the error is not handled properly.\n",
    "\n",
    "There are several types of exceptions in Python, including built-in exceptions like TypeError, ValueError, and IOError, and user-defined exceptions that can be created using the raise statement.\n",
    "\n",
    "The difference between exceptions and syntax errors is that syntax errors occur when the interpreter cannot parse the code due to a violation of the language syntax rules, while exceptions occur when the interpreter can parse the code but encounters an error during execution.\n",
    "\n",
    "Syntax errors are typically easy to identify because they are raised immediately when the code is compiled, while exceptions are raised during runtime and may be more difficult to diagnose.\n",
    "\n",
    "Here's an example of a syntax error:"
   ]
  },
  {
   "cell_type": "code",
   "execution_count": 2,
   "id": "5b89778c",
   "metadata": {},
   "outputs": [
    {
     "ename": "SyntaxError",
     "evalue": "unexpected EOF while parsing (2580143736.py, line 2)",
     "output_type": "error",
     "traceback": [
      "\u001b[1;36m  File \u001b[1;32m\"C:\\Users\\aadit\\AppData\\Local\\Temp\\ipykernel_11212\\2580143736.py\"\u001b[1;36m, line \u001b[1;32m2\u001b[0m\n\u001b[1;33m    print(\"Hello, world!\"\u001b[0m\n\u001b[1;37m                         ^\u001b[0m\n\u001b[1;31mSyntaxError\u001b[0m\u001b[1;31m:\u001b[0m unexpected EOF while parsing\n"
     ]
    }
   ],
   "source": [
    "# Syntax Error: Missing closing parenthesis\n",
    "print(\"Hello, world!\"\n"
   ]
  },
  {
   "cell_type": "markdown",
   "id": "adf95931",
   "metadata": {},
   "source": [
    "Here's an example of an exception:"
   ]
  },
  {
   "cell_type": "code",
   "execution_count": 3,
   "id": "60651e3c",
   "metadata": {},
   "outputs": [
    {
     "ename": "ZeroDivisionError",
     "evalue": "division by zero",
     "output_type": "error",
     "traceback": [
      "\u001b[1;31m---------------------------------------------------------------------------\u001b[0m",
      "\u001b[1;31mZeroDivisionError\u001b[0m                         Traceback (most recent call last)",
      "\u001b[1;32m~\\AppData\\Local\\Temp\\ipykernel_11212\\2040046838.py\u001b[0m in \u001b[0;36m<module>\u001b[1;34m\u001b[0m\n\u001b[0;32m      2\u001b[0m \u001b[0ma\u001b[0m \u001b[1;33m=\u001b[0m \u001b[1;36m10\u001b[0m\u001b[1;33m\u001b[0m\u001b[1;33m\u001b[0m\u001b[0m\n\u001b[0;32m      3\u001b[0m \u001b[0mb\u001b[0m \u001b[1;33m=\u001b[0m \u001b[1;36m0\u001b[0m\u001b[1;33m\u001b[0m\u001b[1;33m\u001b[0m\u001b[0m\n\u001b[1;32m----> 4\u001b[1;33m \u001b[0mresult\u001b[0m \u001b[1;33m=\u001b[0m \u001b[0ma\u001b[0m \u001b[1;33m/\u001b[0m \u001b[0mb\u001b[0m\u001b[1;33m\u001b[0m\u001b[1;33m\u001b[0m\u001b[0m\n\u001b[0m",
      "\u001b[1;31mZeroDivisionError\u001b[0m: division by zero"
     ]
    }
   ],
   "source": [
    "# Exception: Trying to divide by zero\n",
    "a = 10\n",
    "b = 0\n",
    "result = a / b\n"
   ]
  },
  {
   "cell_type": "markdown",
   "id": "c38cc3ff",
   "metadata": {},
   "source": [
    "In this example, an exception is raised because we are trying to divide by zero, which is not a valid operation in Python. To handle exceptions, we can use the try and except statements to catch and handle the exception in a graceful way."
   ]
  },
  {
   "cell_type": "code",
   "execution_count": 4,
   "id": "64ce8e47",
   "metadata": {},
   "outputs": [
    {
     "name": "stdout",
     "output_type": "stream",
     "text": [
      "Error: Division by zero\n"
     ]
    }
   ],
   "source": [
    "# Using try and except to handle exception\n",
    "a = 10\n",
    "b = 0\n",
    "try:\n",
    "    result = a / b\n",
    "except ZeroDivisionError:\n",
    "    print(\"Error: Division by zero\")\n"
   ]
  },
  {
   "cell_type": "markdown",
   "id": "9268120b",
   "metadata": {},
   "source": [
    "# Q2. What happens when an exception is not handled? Explain with an example."
   ]
  },
  {
   "cell_type": "markdown",
   "id": "3dd080e4",
   "metadata": {},
   "source": [
    "When an exception is not handled in a Python program, the program will terminate abruptly and display an error message that describes the exception that was raised. This can result in the loss of any unsaved data, unexpected behavior, or even crashes of the program or the entire system.\n",
    "\n",
    "Here's an example of what can happen if an exception is not handled:"
   ]
  },
  {
   "cell_type": "code",
   "execution_count": 5,
   "id": "d93eba62",
   "metadata": {},
   "outputs": [
    {
     "ename": "ZeroDivisionError",
     "evalue": "division by zero",
     "output_type": "error",
     "traceback": [
      "\u001b[1;31m---------------------------------------------------------------------------\u001b[0m",
      "\u001b[1;31mZeroDivisionError\u001b[0m                         Traceback (most recent call last)",
      "\u001b[1;32m~\\AppData\\Local\\Temp\\ipykernel_11212\\659665763.py\u001b[0m in \u001b[0;36m<module>\u001b[1;34m\u001b[0m\n\u001b[0;32m      2\u001b[0m \u001b[0ma\u001b[0m \u001b[1;33m=\u001b[0m \u001b[1;36m10\u001b[0m\u001b[1;33m\u001b[0m\u001b[1;33m\u001b[0m\u001b[0m\n\u001b[0;32m      3\u001b[0m \u001b[0mb\u001b[0m \u001b[1;33m=\u001b[0m \u001b[1;36m0\u001b[0m\u001b[1;33m\u001b[0m\u001b[1;33m\u001b[0m\u001b[0m\n\u001b[1;32m----> 4\u001b[1;33m \u001b[0mresult\u001b[0m \u001b[1;33m=\u001b[0m \u001b[0ma\u001b[0m \u001b[1;33m/\u001b[0m \u001b[0mb\u001b[0m\u001b[1;33m\u001b[0m\u001b[1;33m\u001b[0m\u001b[0m\n\u001b[0m\u001b[0;32m      5\u001b[0m \u001b[0mprint\u001b[0m\u001b[1;33m(\u001b[0m\u001b[1;34m\"The result is:\"\u001b[0m\u001b[1;33m,\u001b[0m \u001b[0mresult\u001b[0m\u001b[1;33m)\u001b[0m\u001b[1;33m\u001b[0m\u001b[1;33m\u001b[0m\u001b[0m\n",
      "\u001b[1;31mZeroDivisionError\u001b[0m: division by zero"
     ]
    }
   ],
   "source": [
    "# An unhandled exception leads to the program terminating abruptly\n",
    "a = 10\n",
    "b = 0\n",
    "result = a / b\n",
    "print(\"The result is:\", result)\n"
   ]
  },
  {
   "cell_type": "markdown",
   "id": "1dc8fc10",
   "metadata": {},
   "source": [
    "In this example, we are trying to divide a by b, but b is set to zero, which results in a ZeroDivisionError. Since there is no try/except block to handle this exception, the program will terminate abruptly and display the error message:"
   ]
  },
  {
   "cell_type": "markdown",
   "id": "b894d22e",
   "metadata": {},
   "source": [
    "As a result, the line that prints the result of the division is never executed.\n",
    "\n",
    "To prevent this from happening, it is important to always handle exceptions that may occur in your code. You can use try/except blocks to catch and handle exceptions in a graceful way that allows the program to continue running despite the exception. This can help you avoid unexpected crashes and ensure that your program behaves in a predictable and reliable way."
   ]
  },
  {
   "cell_type": "markdown",
   "id": "2de3491c",
   "metadata": {},
   "source": [
    "# Q3. Which python satement are used to catch and handle exceptions ? Explain with an exapmle."
   ]
  },
  {
   "cell_type": "markdown",
   "id": "6207617d",
   "metadata": {},
   "source": [
    "The \"try\" and \"except\" statements are used to handle exceptions. The \"try\" block contains the code that may raise an exception, and the \"except\" block specifies what should be done if an exception is raised.\n",
    "\n",
    "Here's an example of how to use \"try\"/\"except\" blocks to handle an exception:"
   ]
  },
  {
   "cell_type": "code",
   "execution_count": 11,
   "id": "5669df49",
   "metadata": {},
   "outputs": [
    {
     "name": "stdout",
     "output_type": "stream",
     "text": [
      "Error: Division by zero\n"
     ]
    }
   ],
   "source": [
    "# Handling an exception with try/except\n",
    "a = 10\n",
    "b = 0\n",
    "try:\n",
    "    result = a / b\n",
    "except ZeroDivisionError:\n",
    "    print(\"Error: Division by zero\")\n"
   ]
  },
  {
   "cell_type": "code",
   "execution_count": null,
   "id": "148bcb54",
   "metadata": {},
   "outputs": [],
   "source": []
  },
  {
   "cell_type": "code",
   "execution_count": null,
   "id": "82549fba",
   "metadata": {},
   "outputs": [],
   "source": []
  },
  {
   "cell_type": "markdown",
   "id": "1cdf3b65",
   "metadata": {},
   "source": [
    "# Q4. Explain with an example:\n",
    "\n",
    "# a. try and else\n",
    "# b. finally\n",
    "# c. raise"
   ]
  },
  {
   "cell_type": "markdown",
   "id": "fcb24db8",
   "metadata": {},
   "source": [
    "1. try and else : The 'else' clause in a 'try'/'except' block in Python is executed if no exception is raised in the 'try' block. Here's an example:\n",
    "\n"
   ]
  },
  {
   "cell_type": "code",
   "execution_count": 7,
   "id": "6207192e",
   "metadata": {},
   "outputs": [
    {
     "name": "stdout",
     "output_type": "stream",
     "text": [
      "Enter a number: 3\n",
      "The square of 3 is 9\n"
     ]
    }
   ],
   "source": [
    "try:\n",
    "    x = int(input(\"Enter a number: \"))\n",
    "except ValueError:\n",
    "    print(\"Invalid input\")\n",
    "else:\n",
    "    print(\"The square of\", x, \"is\", x**2)"
   ]
  },
  {
   "cell_type": "code",
   "execution_count": 8,
   "id": "6e3f00e4",
   "metadata": {},
   "outputs": [
    {
     "name": "stdout",
     "output_type": "stream",
     "text": [
      "Enter a number: tt\n",
      "Invalid input\n"
     ]
    }
   ],
   "source": [
    "try:\n",
    "    x = int(input(\"Enter a number: \"))\n",
    "except ValueError:\n",
    "    print(\"Invalid input\")\n",
    "else:\n",
    "    print(\"The square of\", x, \"is\", x**2)"
   ]
  },
  {
   "cell_type": "markdown",
   "id": "c8d2a51e",
   "metadata": {},
   "source": [
    "In this example, the \"try\" block attempts to convert user input to an integer using the \"int()\" function. If the input is not a valid integer, a \"ValueError\" is raised and caught by the \"except\" block, which prints an error message.\n",
    "\n",
    "If the input is a valid integer, the \"try\" block completes successfully, and the code in the \"else\" block is executed. In this case, the \"else\" block simply prints the square of the integer that was entered.\n",
    "\n"
   ]
  },
  {
   "cell_type": "markdown",
   "id": "81f070d9",
   "metadata": {},
   "source": [
    "2. finally : The \"finally\" clause in a \"try\"/\"except \"block is executed whether an exception is raised or not. This can be useful for tasks that need to be performed regardless of whether an exception occurred. Here's an example:"
   ]
  },
  {
   "cell_type": "code",
   "execution_count": 9,
   "id": "4abc43d3",
   "metadata": {},
   "outputs": [],
   "source": [
    "try:\n",
    "    f = open(\"example.txt\", \"r\")\n",
    "    # some code that may raise an exception\n",
    "except:\n",
    "    print(\"An error occurred\")\n",
    "finally:\n",
    "    f.close()\n"
   ]
  },
  {
   "cell_type": "markdown",
   "id": "0fd2d5d0",
   "metadata": {},
   "source": [
    "In this example, the try block attempts to open a file for reading, and then some code is executed that may raise an exception. If an exception is raised, the except block is executed and an error message is printed.\n",
    "\n",
    "Regardless of whether an exception is raised, the finally block is executed. In this case, the finally block closes the file that was opened in the try block, ensuring that the file is closed properly even if an exception occurred."
   ]
  },
  {
   "cell_type": "markdown",
   "id": "7d0c3464",
   "metadata": {},
   "source": [
    "3. \"raise\" : The \"raise\" statement in Python is used to raise an exception. This can be useful when you want to signal an error condition in your code, or when you want to handle a specific exception in a particular way.\n",
    "\n",
    "Here's an example:"
   ]
  },
  {
   "cell_type": "code",
   "execution_count": 10,
   "id": "47a867db",
   "metadata": {},
   "outputs": [
    {
     "name": "stdout",
     "output_type": "stream",
     "text": [
      "Cannot divide by zero\n"
     ]
    }
   ],
   "source": [
    "def divide(x, y):\n",
    "    if y == 0:\n",
    "        raise ZeroDivisionError(\"Cannot divide by zero\")\n",
    "    return x / y\n",
    "\n",
    "try:\n",
    "    result = divide(10, 0)\n",
    "except ZeroDivisionError as e:\n",
    "    print(e)\n"
   ]
  },
  {
   "cell_type": "markdown",
   "id": "b2b3ebe9",
   "metadata": {},
   "source": [
    "In this example, we define a function called divide that attempts to divide two numbers. If the second number is zero, a ZeroDivisionError is raised with a custom error message.\n",
    "\n",
    "In the try block, we call the divide function with the arguments 10 and 0. This will raise a ZeroDivisionError, which is caught by the except block.\n",
    "\n",
    "The except block prints the error message associated with the exception using the as keyword to assign the exception object to a variable called e.\n",
    "\n",
    "This allows us to handle the exception in a specific way, such as printing a custom error message, logging the error, or taking other appropriate actions."
   ]
  },
  {
   "cell_type": "markdown",
   "id": "55c3b205",
   "metadata": {},
   "source": [
    "# Q5. What are custom Exception in python ? why do we need Custom Exceptions ? Explain with an Example."
   ]
  },
  {
   "cell_type": "markdown",
   "id": "5882ba24",
   "metadata": {},
   "source": [
    "Custom exceptions are user-defined exceptions that extend the built-in Exception class in Python. They allow you to create your own exception types that can be raised and handled like any other exception.\n",
    "\n",
    "We need custom exceptions in Python for several reasons:\n",
    "\n",
    "* To provide more specific and meaningful error messages to users or developers who are using our code.\n",
    "* To handle specific error conditions in a more granular way than the built-in exceptions provide.\n",
    "* To provide a more organized and structured way to handle exceptions in a large codebase.\n",
    "Here's an example of how to define and use a custom exception in Python:"
   ]
  },
  {
   "cell_type": "code",
   "execution_count": 12,
   "id": "19f489a8",
   "metadata": {},
   "outputs": [
    {
     "name": "stdout",
     "output_type": "stream",
     "text": [
      "Not enough funds in the account.\n"
     ]
    }
   ],
   "source": [
    "class InsufficientFundsError(Exception):\n",
    "    pass\n",
    "\n",
    "class BankAccount:\n",
    "    def __init__(self, balance):\n",
    "        self.balance = balance\n",
    "\n",
    "    def withdraw(self, amount):\n",
    "        if amount > self.balance:\n",
    "            raise InsufficientFundsError(\"Not enough funds in the account.\")\n",
    "        self.balance -= amount\n",
    "\n",
    "# Example usage:\n",
    "account = BankAccount(100)\n",
    "try:\n",
    "    account.withdraw(200)\n",
    "except InsufficientFundsError as e:\n",
    "    print(e)\n"
   ]
  },
  {
   "cell_type": "code",
   "execution_count": null,
   "id": "12151dee",
   "metadata": {},
   "outputs": [],
   "source": []
  },
  {
   "cell_type": "markdown",
   "id": "42244b90",
   "metadata": {},
   "source": [
    "# Q6. Create a custom exception class. Use this class to handle an exception."
   ]
  },
  {
   "cell_type": "code",
   "execution_count": 13,
   "id": "5fcd92da",
   "metadata": {},
   "outputs": [
    {
     "name": "stdout",
     "output_type": "stream",
     "text": [
      "An error occurred:  Width and height must be positive values.\n"
     ]
    }
   ],
   "source": [
    "class InvalidInputError(Exception):\n",
    "    pass\n",
    "\n",
    "def calculate_area(width, height):\n",
    "    if width <= 0 or height <= 0:\n",
    "        raise InvalidInputError(\"Width and height must be positive values.\")\n",
    "    return width * height\n",
    "\n",
    "try:\n",
    "    area = calculate_area(10, -5)\n",
    "except InvalidInputError as e:\n",
    "    print(\"An error occurred: \", e)\n",
    "else:\n",
    "    print(\"Area is: \", area)\n"
   ]
  },
  {
   "cell_type": "code",
   "execution_count": null,
   "id": "9a052a7b",
   "metadata": {},
   "outputs": [],
   "source": []
  }
 ],
 "metadata": {
  "kernelspec": {
   "display_name": "Python 3 (ipykernel)",
   "language": "python",
   "name": "python3"
  },
  "language_info": {
   "codemirror_mode": {
    "name": "ipython",
    "version": 3
   },
   "file_extension": ".py",
   "mimetype": "text/x-python",
   "name": "python",
   "nbconvert_exporter": "python",
   "pygments_lexer": "ipython3",
   "version": "3.9.13"
  }
 },
 "nbformat": 4,
 "nbformat_minor": 5
}
