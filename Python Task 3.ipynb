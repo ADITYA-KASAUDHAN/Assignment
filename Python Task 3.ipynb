{
 "cells": [
  {
   "cell_type": "markdown",
   "id": "d2a7196d",
   "metadata": {},
   "source": [
    "# Question 1."
   ]
  },
  {
   "cell_type": "code",
   "execution_count": 1,
   "id": "4bf246a7",
   "metadata": {},
   "outputs": [],
   "source": [
    "# Create a vehicle class with an init method having instance variables as name_of_vehicle, max_speed and average_of_vehicle."
   ]
  },
  {
   "cell_type": "code",
   "execution_count": 6,
   "id": "e4c66933",
   "metadata": {},
   "outputs": [],
   "source": [
    "# Answer"
   ]
  },
  {
   "cell_type": "code",
   "execution_count": 7,
   "id": "ac1e56de",
   "metadata": {},
   "outputs": [
    {
     "data": {
      "text/plain": [
       "('TYOTA', 120, 34)"
      ]
     },
     "execution_count": 7,
     "metadata": {},
     "output_type": "execute_result"
    }
   ],
   "source": [
    "class vehicle:\n",
    "    def __init__(self, name_of_vehicle, max_speed, average_of_vehicle):\n",
    "        self.name_of_vehicle = name_of_vehicle\n",
    "        self.max_speed = max_speed\n",
    "        self.average_of_vehicle = average_of_vehicle\n",
    "        \n",
    "    def details_of_vehicle(self):\n",
    "            return self.name_of_vehicle, self.max_speed, self.average_of_vehicle\n",
    "    \n",
    "v1 = vehicle(\"TYOTA\",120,34)\n",
    "\n",
    "v1.details_of_vehicle()"
   ]
  },
  {
   "cell_type": "markdown",
   "id": "dd6e2988",
   "metadata": {},
   "source": [
    "# Question 2."
   ]
  },
  {
   "cell_type": "code",
   "execution_count": 8,
   "id": "c84ed14b",
   "metadata": {},
   "outputs": [],
   "source": [
    "# Create a child class car from the vehicle class created in Que 1, which will inherit the vehicle class.\n",
    "# Create a method named seating_capacity which takes capacity as an argument and returns the name of\n",
    "# the vehicle and its seating capacity."
   ]
  },
  {
   "cell_type": "code",
   "execution_count": 9,
   "id": "ed2d5246",
   "metadata": {},
   "outputs": [],
   "source": [
    "# Answer 2."
   ]
  },
  {
   "cell_type": "code",
   "execution_count": 22,
   "id": "0daf0149",
   "metadata": {},
   "outputs": [
    {
     "name": "stdout",
     "output_type": "stream",
     "text": [
      "The THAR has a seating capacity of 4.\n"
     ]
    }
   ],
   "source": [
    "class Vehicle:\n",
    "    def __init__(self, name_of_vehicle, max_speed, average_of_vehicle):\n",
    "        self.name_of_vehicle = name_of_vehicle\n",
    "        self.max_speed = max_speed\n",
    "        self.average_of_vehicle = average_of_vehicle\n",
    "        \n",
    "class Car(Vehicle):\n",
    "    \n",
    "    def seating_capacity(self, capacity):\n",
    "        return f\"The {self.name_of_vehicle} has a seating capacity of {capacity}.\"\n",
    "\n",
    "my_car = Car(\"THAR\", 220, 15)\n",
    "print(my_car.seating_capacity(4))\n",
    "\n",
    "    \n",
    "    \n",
    "    \n",
    "        "
   ]
  },
  {
   "cell_type": "markdown",
   "id": "f0a56f77",
   "metadata": {},
   "source": [
    "# Question 3."
   ]
  },
  {
   "cell_type": "code",
   "execution_count": null,
   "id": "77534e2d",
   "metadata": {},
   "outputs": [],
   "source": [
    "# What is multiple inheritance? Write a python code to demonstrate multiple inheritance."
   ]
  },
  {
   "cell_type": "markdown",
   "id": "50f44454",
   "metadata": {},
   "source": [
    "Multiple inheritance is a feature in object-oriented programming languages where a class can inherit properties and behavior from more than one parent class. This allows the child class to inherit attributes and methods from multiple parent classes, leading to a more reusable and flexible code.\n",
    "\n",
    "Here is an example in Python to demonstrate multiple inheritance:"
   ]
  },
  {
   "cell_type": "code",
   "execution_count": 41,
   "id": "66ea653f",
   "metadata": {
    "scrolled": true
   },
   "outputs": [
    {
     "data": {
      "text/plain": [
       "\"('LAV', 'KUSH') is child of RAM and SITA. \""
      ]
     },
     "execution_count": 41,
     "metadata": {},
     "output_type": "execute_result"
    }
   ],
   "source": [
    "class Parent_Class_1:\n",
    "    def Father_name(self, father):\n",
    "        self.father_name =  father\n",
    "        print(\"Father_name :\",self.Father_name)\n",
    "        \n",
    "class Parent_Class_2:\n",
    "    def Mother_name(self, mother):\n",
    "        self.Mother_name = mother\n",
    "        print(\"Mother_name :\",self.Mother_name)\n",
    "        \n",
    "class Child_Class(Parent_Class_1, Parent_Class_2):\n",
    "    def Child_name(self, child):\n",
    "        self.child_name = Child\n",
    "        \n",
    "    def Parents(self):\n",
    "        return f\"{self.child_name} is child of {self.Father_name} and {self.Mother_name}. \"\n",
    "    \n",
    "d = Child_Class()\n",
    "d.Father_name = \"RAM\"\n",
    "d.Mother_name = \"SITA\"\n",
    "d.child_name = \"LAV\", \"KUSH\"\n",
    "d.Parents()\n",
    "    "
   ]
  },
  {
   "cell_type": "markdown",
   "id": "a22fc37f",
   "metadata": {},
   "source": [
    "# Question 4"
   ]
  },
  {
   "cell_type": "code",
   "execution_count": 42,
   "id": "61265bff",
   "metadata": {},
   "outputs": [],
   "source": [
    "# What are getter and setter in python? Create a class and create a getter and a setter method in this class."
   ]
  },
  {
   "cell_type": "code",
   "execution_count": 43,
   "id": "5fd690c3",
   "metadata": {},
   "outputs": [],
   "source": [
    "# Answer 4"
   ]
  },
  {
   "cell_type": "markdown",
   "id": "5d827a2e",
   "metadata": {},
   "source": [
    "Getters and setters are methods used in object-oriented programming to access and modify the internal data of an object.\n",
    "\n",
    "In Python, getters and setters are usually used to enforce encapsulation and control access to the internal data of an object. A getter method is used to retrieve the value of an object's internal data, while a setter method is used to update the value of an object's internal data.\n",
    "\n",
    "Here's an example of a class with a getter and a setter method:"
   ]
  },
  {
   "cell_type": "code",
   "execution_count": 44,
   "id": "49a43f49",
   "metadata": {},
   "outputs": [
    {
     "name": "stdout",
     "output_type": "stream",
     "text": [
      "John\n",
      "Jane\n"
     ]
    }
   ],
   "source": [
    "class Person:\n",
    "    def __init__(self, name):\n",
    "        self.__name = name\n",
    "\n",
    "    def get_name(self):\n",
    "        return self.__name\n",
    "\n",
    "    def set_name(self, name):\n",
    "        self.__name = name\n",
    "\n",
    "person = Person(\"John\")\n",
    "print(person.get_name()) # Output: John\n",
    "\n",
    "person.set_name(\"Jane\")\n",
    "print(person.get_name()) # Output: Jane\n"
   ]
  },
  {
   "cell_type": "markdown",
   "id": "ffa0b219",
   "metadata": {},
   "source": [
    "In this example, the Person class has a private variable __name that holds the name of the person. The get_name method is used to retrieve the value of __name, while the set_name method is used to update the value of __name.\n",
    "\n",
    "By using getters and setters, you can control access to the internal data of an object, and enforce any rules or constraints that you want to apply to the data. For example, you can use setters to enforce data validation, to ensure that only valid values are allowed for an object's internal data."
   ]
  },
  {
   "cell_type": "markdown",
   "id": "c62eaa72",
   "metadata": {},
   "source": [
    "# Qusetion 5."
   ]
  },
  {
   "cell_type": "code",
   "execution_count": 45,
   "id": "74f8fbd3",
   "metadata": {},
   "outputs": [],
   "source": [
    "# What is method overriding in python? Write a python code to demonstrate method overriding."
   ]
  },
  {
   "cell_type": "code",
   "execution_count": 46,
   "id": "5830832d",
   "metadata": {},
   "outputs": [],
   "source": [
    "# Answer 5."
   ]
  },
  {
   "cell_type": "markdown",
   "id": "cc6aab39",
   "metadata": {},
   "source": [
    "Method overriding is a feature in object-oriented programming that allows a subclass to provide a specific implementation of a method that is already defined in its superclass. The purpose of method overriding is to allow a subclass to extend or modify the behavior of the superclass method.\n",
    "\n",
    "Here's an example of method overriding in Python:"
   ]
  },
  {
   "cell_type": "code",
   "execution_count": 48,
   "id": "2261a5ab",
   "metadata": {},
   "outputs": [
    {
     "name": "stdout",
     "output_type": "stream",
     "text": [
      "Bark\n"
     ]
    }
   ],
   "source": [
    "#ParentClass\n",
    "class Animal:\n",
    "    def make_sound(self):\n",
    "        print(\"Animal sound\")\n",
    "        \n",
    "#Child Class\n",
    "class Dog(Animal):\n",
    "    def make_sound(self):\n",
    "        print(\"Bark\")\n",
    "\n",
    "dog = Dog()\n",
    "dog.make_sound()  # Output: Bark"
   ]
  },
  {
   "cell_type": "markdown",
   "id": "edd40bb9",
   "metadata": {},
   "source": [
    "In this example, we have two classes, Animal and Dog, where Dog is a subclass of Animal. The Animal class has a method make_sound which prints \"Animal sound\". The Dog class overrides this method by providing its own implementation, which prints \"Bark\".\n",
    "\n",
    "When we create an instance of the Dog class and call the make_sound method, it invokes the implementation in the Dog class, not the one in the Animal class.\n",
    "\n",
    " "
   ]
  },
  {
   "cell_type": "code",
   "execution_count": null,
   "id": "f2fa1599",
   "metadata": {},
   "outputs": [],
   "source": []
  }
 ],
 "metadata": {
  "kernelspec": {
   "display_name": "Python 3 (ipykernel)",
   "language": "python",
   "name": "python3"
  },
  "language_info": {
   "codemirror_mode": {
    "name": "ipython",
    "version": 3
   },
   "file_extension": ".py",
   "mimetype": "text/x-python",
   "name": "python",
   "nbconvert_exporter": "python",
   "pygments_lexer": "ipython3",
   "version": "3.9.13"
  }
 },
 "nbformat": 4,
 "nbformat_minor": 5
}
